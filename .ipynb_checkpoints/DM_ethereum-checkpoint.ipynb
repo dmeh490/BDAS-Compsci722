{
 "cells": [
  {
   "cell_type": "code",
   "execution_count": 2,
   "metadata": {},
   "outputs": [],
   "source": [
    "import findspark\n",
    "findspark.init('/home/ubuntu/spark-2.1.1-bin-hadoop2.7')\n",
    "import pyspark\n",
    "from pyspark.sql import SparkSession\n",
    "spark = SparkSession.builder.appName('DM_ethereum').getOrCreate()\n",
    "\n",
    "ep = spark.read.csv('Dataset_main/ethereum_classic_price 1.csv',header=True,inferSchema=True)"
   ]
  },
  {
   "cell_type": "code",
   "execution_count": 3,
   "metadata": {},
   "outputs": [
    {
     "data": {
      "text/html": [
       "<div>\n",
       "<style scoped>\n",
       "    .dataframe tbody tr th:only-of-type {\n",
       "        vertical-align: middle;\n",
       "    }\n",
       "\n",
       "    .dataframe tbody tr th {\n",
       "        vertical-align: top;\n",
       "    }\n",
       "\n",
       "    .dataframe thead th {\n",
       "        text-align: right;\n",
       "    }\n",
       "</style>\n",
       "<table border=\"1\" class=\"dataframe\">\n",
       "  <thead>\n",
       "    <tr style=\"text-align: right;\">\n",
       "      <th></th>\n",
       "      <th>0</th>\n",
       "      <th>1</th>\n",
       "      <th>2</th>\n",
       "      <th>3</th>\n",
       "      <th>4</th>\n",
       "    </tr>\n",
       "  </thead>\n",
       "  <tbody>\n",
       "    <tr>\n",
       "      <th>summary</th>\n",
       "      <td>count</td>\n",
       "      <td>mean</td>\n",
       "      <td>stddev</td>\n",
       "      <td>min</td>\n",
       "      <td>max</td>\n",
       "    </tr>\n",
       "    <tr>\n",
       "      <th>Open</th>\n",
       "      <td>1761</td>\n",
       "      <td>7.4583363719477545</td>\n",
       "      <td>8.426770726753162</td>\n",
       "      <td>0.604737</td>\n",
       "      <td>44.53</td>\n",
       "    </tr>\n",
       "    <tr>\n",
       "      <th>High</th>\n",
       "      <td>1761</td>\n",
       "      <td>7.867908806360018</td>\n",
       "      <td>9.09130871892865</td>\n",
       "      <td>0.766068</td>\n",
       "      <td>53.15</td>\n",
       "    </tr>\n",
       "    <tr>\n",
       "      <th>Low</th>\n",
       "      <td>1761</td>\n",
       "      <td>7.044287735945492</td>\n",
       "      <td>7.740564729267633</td>\n",
       "      <td>0.452446</td>\n",
       "      <td>40.85</td>\n",
       "    </tr>\n",
       "    <tr>\n",
       "      <th>Close</th>\n",
       "      <td>1761</td>\n",
       "      <td>7.477006630891537</td>\n",
       "      <td>8.452638640291166</td>\n",
       "      <td>0.602402</td>\n",
       "      <td>44.73</td>\n",
       "    </tr>\n",
       "  </tbody>\n",
       "</table>\n",
       "</div>"
      ],
      "text/plain": [
       "             0                   1                  2         3      4\n",
       "summary  count                mean             stddev       min    max\n",
       "Open      1761  7.4583363719477545  8.426770726753162  0.604737  44.53\n",
       "High      1761   7.867908806360018   9.09130871892865  0.766068  53.15\n",
       "Low       1761   7.044287735945492  7.740564729267633  0.452446  40.85\n",
       "Close     1761   7.477006630891537  8.452638640291166  0.602402  44.73"
      ]
     },
     "execution_count": 3,
     "metadata": {},
     "output_type": "execute_result"
    }
   ],
   "source": [
    "import pandas as pd\n",
    "new_ep = ep.select('Open', 'High', 'Low', 'Close')\n",
    "new_ep.describe().toPandas().transpose()"
   ]
  },
  {
   "cell_type": "code",
   "execution_count": 4,
   "metadata": {},
   "outputs": [
    {
     "name": "stdout",
     "output_type": "stream",
     "text": [
      "root\n",
      " |-- Open: double (nullable = true)\n",
      " |-- High: double (nullable = true)\n",
      " |-- Low: double (nullable = true)\n",
      " |-- Close: double (nullable = true)\n",
      " |-- features: vector (nullable = true)\n",
      "\n"
     ]
    },
    {
     "data": {
      "text/plain": [
       "[Row(Open=39.41, High=43.96, Low=38.23, Close=38.47, features=DenseVector([39.41, 43.96, 38.23, 38.47]))]"
      ]
     },
     "execution_count": 4,
     "metadata": {},
     "output_type": "execute_result"
    }
   ],
   "source": [
    "#Reduce data.\n",
    "from pyspark.ml.feature import VectorAssembler\n",
    "\n",
    "vector_assembler = VectorAssembler(inputCols = ['Open', 'High', 'Low', 'Close'], outputCol = 'features')\n",
    "vector_output = vector_assembler.transform(new_ep)\n",
    "vector_output.printSchema()\n",
    "vector_output.head(1)"
   ]
  },
  {
   "cell_type": "code",
   "execution_count": 5,
   "metadata": {},
   "outputs": [
    {
     "name": "stdout",
     "output_type": "stream",
     "text": [
      "[Row(features=DenseVector([39.41, 43.96, 38.23, 38.47]), High=43.96)]\n"
     ]
    },
    {
     "data": {
      "text/html": [
       "<div>\n",
       "<style scoped>\n",
       "    .dataframe tbody tr th:only-of-type {\n",
       "        vertical-align: middle;\n",
       "    }\n",
       "\n",
       "    .dataframe tbody tr th {\n",
       "        vertical-align: top;\n",
       "    }\n",
       "\n",
       "    .dataframe thead th {\n",
       "        text-align: right;\n",
       "    }\n",
       "</style>\n",
       "<table border=\"1\" class=\"dataframe\">\n",
       "  <thead>\n",
       "    <tr style=\"text-align: right;\">\n",
       "      <th></th>\n",
       "      <th>features</th>\n",
       "      <th>High</th>\n",
       "    </tr>\n",
       "  </thead>\n",
       "  <tbody>\n",
       "    <tr>\n",
       "      <th>0</th>\n",
       "      <td>[39.41, 43.96, 38.23, 38.47]</td>\n",
       "      <td>43.96</td>\n",
       "    </tr>\n",
       "    <tr>\n",
       "      <th>1</th>\n",
       "      <td>[34.69, 40.26, 33.93, 39.29]</td>\n",
       "      <td>40.26</td>\n",
       "    </tr>\n",
       "    <tr>\n",
       "      <th>2</th>\n",
       "      <td>[35.01, 35.08, 31.52, 34.88]</td>\n",
       "      <td>35.08</td>\n",
       "    </tr>\n",
       "    <tr>\n",
       "      <th>3</th>\n",
       "      <td>[34.97, 35.4, 34.38, 34.99]</td>\n",
       "      <td>35.40</td>\n",
       "    </tr>\n",
       "    <tr>\n",
       "      <th>4</th>\n",
       "      <td>[34.43, 35.34, 32.9, 35.03]</td>\n",
       "      <td>35.34</td>\n",
       "    </tr>\n",
       "    <tr>\n",
       "      <th>5</th>\n",
       "      <td>[34.83, 35.65, 32.83, 34.53]</td>\n",
       "      <td>35.65</td>\n",
       "    </tr>\n",
       "    <tr>\n",
       "      <th>6</th>\n",
       "      <td>[34.32, 36.44, 33.4, 35.04]</td>\n",
       "      <td>36.44</td>\n",
       "    </tr>\n",
       "    <tr>\n",
       "      <th>7</th>\n",
       "      <td>[29.88, 34.73, 28.32, 33.96]</td>\n",
       "      <td>34.73</td>\n",
       "    </tr>\n",
       "    <tr>\n",
       "      <th>8</th>\n",
       "      <td>[24.31, 30.33, 24.31, 29.88]</td>\n",
       "      <td>30.33</td>\n",
       "    </tr>\n",
       "    <tr>\n",
       "      <th>9</th>\n",
       "      <td>[24.53, 26.0, 21.42, 24.13]</td>\n",
       "      <td>26.00</td>\n",
       "    </tr>\n",
       "  </tbody>\n",
       "</table>\n",
       "</div>"
      ],
      "text/plain": [
       "                       features   High\n",
       "0  [39.41, 43.96, 38.23, 38.47]  43.96\n",
       "1  [34.69, 40.26, 33.93, 39.29]  40.26\n",
       "2  [35.01, 35.08, 31.52, 34.88]  35.08\n",
       "3   [34.97, 35.4, 34.38, 34.99]  35.40\n",
       "4   [34.43, 35.34, 32.9, 35.03]  35.34\n",
       "5  [34.83, 35.65, 32.83, 34.53]  35.65\n",
       "6   [34.32, 36.44, 33.4, 35.04]  36.44\n",
       "7  [29.88, 34.73, 28.32, 33.96]  34.73\n",
       "8  [24.31, 30.33, 24.31, 29.88]  30.33\n",
       "9   [24.53, 26.0, 21.42, 24.13]  26.00"
      ]
     },
     "execution_count": 5,
     "metadata": {},
     "output_type": "execute_result"
    }
   ],
   "source": [
    "vector_output = vector_output.select(['features', 'High'])\n",
    "\n",
    "print(vector_output.head(1))\n",
    "pd.DataFrame(vector_output.take(10), columns=vector_output.columns)"
   ]
  },
  {
   "cell_type": "code",
   "execution_count": 6,
   "metadata": {},
   "outputs": [
    {
     "data": {
      "text/html": [
       "<div>\n",
       "<style scoped>\n",
       "    .dataframe tbody tr th:only-of-type {\n",
       "        vertical-align: middle;\n",
       "    }\n",
       "\n",
       "    .dataframe tbody tr th {\n",
       "        vertical-align: top;\n",
       "    }\n",
       "\n",
       "    .dataframe thead th {\n",
       "        text-align: right;\n",
       "    }\n",
       "</style>\n",
       "<table border=\"1\" class=\"dataframe\">\n",
       "  <thead>\n",
       "    <tr style=\"text-align: right;\">\n",
       "      <th></th>\n",
       "      <th>summary</th>\n",
       "      <th>High</th>\n",
       "    </tr>\n",
       "  </thead>\n",
       "  <tbody>\n",
       "    <tr>\n",
       "      <th>0</th>\n",
       "      <td>count</td>\n",
       "      <td>1416</td>\n",
       "    </tr>\n",
       "    <tr>\n",
       "      <th>1</th>\n",
       "      <td>mean</td>\n",
       "      <td>7.737529393361579</td>\n",
       "    </tr>\n",
       "    <tr>\n",
       "      <th>2</th>\n",
       "      <td>stddev</td>\n",
       "      <td>8.986340639488855</td>\n",
       "    </tr>\n",
       "    <tr>\n",
       "      <th>3</th>\n",
       "      <td>min</td>\n",
       "      <td>0.766068</td>\n",
       "    </tr>\n",
       "    <tr>\n",
       "      <th>4</th>\n",
       "      <td>max</td>\n",
       "      <td>53.15</td>\n",
       "    </tr>\n",
       "  </tbody>\n",
       "</table>\n",
       "</div>"
      ],
      "text/plain": [
       "  summary               High\n",
       "0   count               1416\n",
       "1    mean  7.737529393361579\n",
       "2  stddev  8.986340639488855\n",
       "3     min           0.766068\n",
       "4     max              53.15"
      ]
     },
     "execution_count": 6,
     "metadata": {},
     "output_type": "execute_result"
    }
   ],
   "source": [
    "#Split data.\n",
    "train_data,test_data = vector_output.randomSplit([0.8,0.2])\n",
    "\n",
    "#Describe train data.\n",
    "train_ep = train_data.describe()\n",
    "pd.DataFrame(train_ep.take(5), columns=train_ep.columns)"
   ]
  },
  {
   "cell_type": "code",
   "execution_count": 7,
   "metadata": {},
   "outputs": [
    {
     "data": {
      "text/html": [
       "<div>\n",
       "<style scoped>\n",
       "    .dataframe tbody tr th:only-of-type {\n",
       "        vertical-align: middle;\n",
       "    }\n",
       "\n",
       "    .dataframe tbody tr th {\n",
       "        vertical-align: top;\n",
       "    }\n",
       "\n",
       "    .dataframe thead th {\n",
       "        text-align: right;\n",
       "    }\n",
       "</style>\n",
       "<table border=\"1\" class=\"dataframe\">\n",
       "  <thead>\n",
       "    <tr style=\"text-align: right;\">\n",
       "      <th></th>\n",
       "      <th>summary</th>\n",
       "      <th>High</th>\n",
       "    </tr>\n",
       "  </thead>\n",
       "  <tbody>\n",
       "    <tr>\n",
       "      <th>0</th>\n",
       "      <td>count</td>\n",
       "      <td>345</td>\n",
       "    </tr>\n",
       "    <tr>\n",
       "      <th>1</th>\n",
       "      <td>mean</td>\n",
       "      <td>8.403031266666662</td>\n",
       "    </tr>\n",
       "    <tr>\n",
       "      <th>2</th>\n",
       "      <td>stddev</td>\n",
       "      <td>9.50475869362785</td>\n",
       "    </tr>\n",
       "    <tr>\n",
       "      <th>3</th>\n",
       "      <td>min</td>\n",
       "      <td>0.791416</td>\n",
       "    </tr>\n",
       "    <tr>\n",
       "      <th>4</th>\n",
       "      <td>max</td>\n",
       "      <td>44.86</td>\n",
       "    </tr>\n",
       "  </tbody>\n",
       "</table>\n",
       "</div>"
      ],
      "text/plain": [
       "  summary               High\n",
       "0   count                345\n",
       "1    mean  8.403031266666662\n",
       "2  stddev   9.50475869362785\n",
       "3     min           0.791416\n",
       "4     max              44.86"
      ]
     },
     "execution_count": 7,
     "metadata": {},
     "output_type": "execute_result"
    }
   ],
   "source": [
    "#Describe test data.\n",
    "test_ep = test_data.describe()\n",
    "pd.DataFrame(test_ep.take(5), columns=test_ep.columns)"
   ]
  },
  {
   "cell_type": "code",
   "execution_count": 8,
   "metadata": {},
   "outputs": [
    {
     "name": "stdout",
     "output_type": "stream",
     "text": [
      "Coefficients: \n",
      "\t(High/Open): -5.375058997822794e-16\n",
      "\t(High/High): 1.0000000000000007\n",
      "\t(High/Low): 3.263240752708e-16\n",
      "\t(High/Close): -5.605233261297384e-16\n",
      "Intercept: 3.294006312595232e-17\n",
      "\n",
      "RMSE: 1.720327121517073e-15\n",
      "R2: 1.0\n",
      "\n",
      "\n"
     ]
    },
    {
     "data": {
      "text/html": [
       "<div>\n",
       "<style scoped>\n",
       "    .dataframe tbody tr th:only-of-type {\n",
       "        vertical-align: middle;\n",
       "    }\n",
       "\n",
       "    .dataframe tbody tr th {\n",
       "        vertical-align: top;\n",
       "    }\n",
       "\n",
       "    .dataframe thead th {\n",
       "        text-align: right;\n",
       "    }\n",
       "</style>\n",
       "<table border=\"1\" class=\"dataframe\">\n",
       "  <thead>\n",
       "    <tr style=\"text-align: right;\">\n",
       "      <th></th>\n",
       "      <th>residuals</th>\n",
       "    </tr>\n",
       "  </thead>\n",
       "  <tbody>\n",
       "    <tr>\n",
       "      <th>0</th>\n",
       "      <td>0.000000e+00</td>\n",
       "    </tr>\n",
       "    <tr>\n",
       "      <th>1</th>\n",
       "      <td>1.110223e-16</td>\n",
       "    </tr>\n",
       "    <tr>\n",
       "      <th>2</th>\n",
       "      <td>1.110223e-16</td>\n",
       "    </tr>\n",
       "    <tr>\n",
       "      <th>3</th>\n",
       "      <td>1.110223e-16</td>\n",
       "    </tr>\n",
       "    <tr>\n",
       "      <th>4</th>\n",
       "      <td>1.110223e-16</td>\n",
       "    </tr>\n",
       "    <tr>\n",
       "      <th>5</th>\n",
       "      <td>1.110223e-16</td>\n",
       "    </tr>\n",
       "    <tr>\n",
       "      <th>6</th>\n",
       "      <td>1.110223e-16</td>\n",
       "    </tr>\n",
       "    <tr>\n",
       "      <th>7</th>\n",
       "      <td>1.110223e-16</td>\n",
       "    </tr>\n",
       "    <tr>\n",
       "      <th>8</th>\n",
       "      <td>1.110223e-16</td>\n",
       "    </tr>\n",
       "    <tr>\n",
       "      <th>9</th>\n",
       "      <td>1.110223e-16</td>\n",
       "    </tr>\n",
       "  </tbody>\n",
       "</table>\n",
       "</div>"
      ],
      "text/plain": [
       "      residuals\n",
       "0  0.000000e+00\n",
       "1  1.110223e-16\n",
       "2  1.110223e-16\n",
       "3  1.110223e-16\n",
       "4  1.110223e-16\n",
       "5  1.110223e-16\n",
       "6  1.110223e-16\n",
       "7  1.110223e-16\n",
       "8  1.110223e-16\n",
       "9  1.110223e-16"
      ]
     },
     "execution_count": 8,
     "metadata": {},
     "output_type": "execute_result"
    }
   ],
   "source": [
    "#Linear Regression.\n",
    "from pyspark.ml.regression import LinearRegression\n",
    "\n",
    "lr = LinearRegression(featuresCol='features', labelCol='High')\n",
    "lr_model = lr.fit(train_data)\n",
    "print(\"Coefficients: \") \n",
    "x = 0\n",
    "for coe in str(lr_model.coefficients)[1:].replace(\"]\",\"\").split(','):\n",
    "    print(\"\\t(High/\"+new_ep.columns[x]+\"): \"+coe)\n",
    "    x += 1\n",
    "\n",
    "print(\"Intercept: \" + str(lr_model.intercept) + \"\\n\")\n",
    "\n",
    "data_summary = lr_model.summary\n",
    "print(\"RMSE: \" + str(data_summary.rootMeanSquaredError))\n",
    "print(\"R2: \" + str(data_summary.r2))\n",
    "print(\"\\n\")\n",
    "\n",
    "data_resi = data_summary.residuals\n",
    "pd.DataFrame(data_resi.take(10), columns=data_resi.columns)"
   ]
  },
  {
   "cell_type": "code",
   "execution_count": 10,
   "metadata": {},
   "outputs": [
    {
     "data": {
      "image/png": "[encoded data removed]",
      "text/plain": [
       "<Figure size 432x288 with 1 Axes>"
      ]
     },
     "metadata": {},
     "output_type": "display_data"
    }
   ],
   "source": [
    "#Plotting for residuals.\n",
    "import pandas as pd\n",
    "import numpy as np\n",
    "import matplotlib.pyplot as plt\n",
    "\n",
    "resi = data_resi.toPandas()\n",
    "\n",
    "plt.hist(resi['residuals'], 50)\n",
    "plt.xlabel('residuals')\n",
    "plt.title('residuals Histogram')\n",
    "\n",
    "plt.show()"
   ]
  },
  {
   "cell_type": "code",
   "execution_count": 11,
   "metadata": {},
   "outputs": [
    {
     "name": "stdout",
     "output_type": "stream",
     "text": [
      "root\n",
      " |-- Open: double (nullable = true)\n",
      " |-- High: double (nullable = true)\n",
      " |-- Low: double (nullable = true)\n",
      " |-- Close: double (nullable = true)\n",
      " |-- features: vector (nullable = true)\n",
      "\n"
     ]
    },
    {
     "data": {
      "text/plain": [
       "[Row(Open=39.41, High=43.96, Low=38.23, Close=38.47, features=DenseVector([39.41, 43.96, 38.23, 38.47]))]"
      ]
     },
     "execution_count": 11,
     "metadata": {},
     "output_type": "execute_result"
    }
   ],
   "source": [
    "from pyspark.ml.feature import VectorAssembler\n",
    "vector_assembler = VectorAssembler(inputCols = [ 'Open', 'High', 'Low', 'Close'], outputCol = 'features')\n",
    "vector_output = vector_assembler.transform(new_ep)\n",
    "vector_output.printSchema()\n",
    "vector_output.head(1)"
   ]
  },
  {
   "cell_type": "code",
   "execution_count": 12,
   "metadata": {},
   "outputs": [
    {
     "name": "stdout",
     "output_type": "stream",
     "text": [
      "[Row(features=DenseVector([39.41, 43.96, 38.23, 38.47]), High=43.96)]\n",
      "+--------------------+-----+\n",
      "|            features| High|\n",
      "+--------------------+-----+\n",
      "|[39.41,43.96,38.2...|43.96|\n",
      "|[34.69,40.26,33.9...|40.26|\n",
      "|[35.01,35.08,31.5...|35.08|\n",
      "+--------------------+-----+\n",
      "only showing top 3 rows\n",
      "\n"
     ]
    }
   ],
   "source": [
    "vector_output = vector_output.select(['features', 'High'])\n",
    "print(vector_output.head(1))\n",
    "vector_output.show(3)"
   ]
  },
  {
   "cell_type": "code",
   "execution_count": 13,
   "metadata": {},
   "outputs": [
    {
     "name": "stdout",
     "output_type": "stream",
     "text": [
      "+-------+-----------------+\n",
      "|summary|             High|\n",
      "+-------+-----------------+\n",
      "|  count|             1394|\n",
      "|   mean|7.954656309899568|\n",
      "| stddev|9.164217884857202|\n",
      "|    min|         0.766068|\n",
      "|    max|            47.94|\n",
      "+-------+-----------------+\n",
      "\n",
      "+-------+-----------------+\n",
      "|summary|             High|\n",
      "+-------+-----------------+\n",
      "|  count|              367|\n",
      "|   mean|7.538410114441416|\n",
      "| stddev|8.813308652975289|\n",
      "|    min|         0.791416|\n",
      "|    max|            53.15|\n",
      "+-------+-----------------+\n",
      "\n"
     ]
    }
   ],
   "source": [
    "train_data,test_data = vector_output.randomSplit([0.8,0.2])\n",
    "train_data.describe().show()\n",
    "test_data.describe().show()"
   ]
  },
  {
   "cell_type": "code",
   "execution_count": 14,
   "metadata": {},
   "outputs": [
    {
     "name": "stdout",
     "output_type": "stream",
     "text": [
      "Coefficients: [0.0,0.9999999999999998,2.364863150325296e-16,9.387055538143606e-17]\n",
      "Intercept: -1.9180901109660394e-15\n",
      "\n",
      "RMSE: 1.792202317012482e-15\n",
      "R2: 1.0\n"
     ]
    }
   ],
   "source": [
    "from pyspark.ml.regression import LinearRegression\n",
    "# Instantiate the instance.\n",
    "lr = LinearRegression(featuresCol='features', labelCol='High')\n",
    "\n",
    "# Fit the training data.\n",
    "lr_model = lr.fit(train_data)\n",
    "\n",
    "# Print the coefficients.\n",
    "print(\"Coefficients: \" + str(lr_model.coefficients))\n",
    "\n",
    "# Print the intercept.\n",
    "print(\"Intercept: \" + str(lr_model.intercept) + \"\\n\")\n",
    "\n",
    "# Summarise the model and print out some evaluation metrics.\n",
    "training_summary = lr_model.summary\n",
    "\n",
    "# Print RMSE. \n",
    "print(\"RMSE: \" + str(training_summary.rootMeanSquaredError))\n",
    "\n",
    "# Print R2.\n",
    "print(\"R2: \" + str(training_summary.r2))"
   ]
  },
  {
   "cell_type": "code",
   "execution_count": 15,
   "metadata": {},
   "outputs": [
    {
     "name": "stdout",
     "output_type": "stream",
     "text": [
      "Coefficients: [0.2562735004758405,0.42277519890512444,0.06846643149773037,0.26947391885858335]\n",
      "Intercept: 0.13662695294312874\n"
     ]
    }
   ],
   "source": [
    "# Linear Regression on train data\n",
    "from pyspark.ml.regression import LinearRegression\n",
    "lr = LinearRegression(featuresCol = 'features', labelCol='High', maxIter=10, regParam=0.3, elasticNetParam=0.8)\n",
    "lr_model = lr.fit(train_data)\n",
    "print(\"Coefficients: \" + str(lr_model.coefficients))\n",
    "print(\"Intercept: \" + str(lr_model.intercept))"
   ]
  },
  {
   "cell_type": "code",
   "execution_count": 16,
   "metadata": {},
   "outputs": [
    {
     "name": "stdout",
     "output_type": "stream",
     "text": [
      "+------------------+--------+--------------------+\n",
      "|        prediction|    High|            features|\n",
      "+------------------+--------+--------------------+\n",
      "|2.2247772006504936|    2.85|[0.604737,2.85,0....|\n",
      "|0.9205000483370231|0.791416|[0.747475,0.79141...|\n",
      "|1.0357984418331676|0.959354|[0.752345,0.95935...|\n",
      "|0.9788034273784296|0.861533|[0.771917,0.86153...|\n",
      "|0.9385221074426853|0.801659|[0.781763,0.80165...|\n",
      "+------------------+--------+--------------------+\n",
      "only showing top 5 rows\n",
      "\n",
      "R Squared (R2) = 0.996336\n",
      "Mean Absolute Error (MAE) = 0.225714\n",
      "Root Mean Squared Error (RMSE) = 0.532785\n"
     ]
    }
   ],
   "source": [
    "lr_predictions = lr_model.transform(test_data)\n",
    "lr_predictions.select(\"prediction\",\"High\",\"features\").show(5)\n",
    "\n",
    "from pyspark.ml.evaluation import RegressionEvaluator\n",
    "\n",
    "lrR2_evaluator = RegressionEvaluator(predictionCol=\"prediction\", \\\n",
    "                 labelCol=\"High\",metricName=\"r2\")\n",
    "print(\"R Squared (R2) = %g\" % lrR2_evaluator.evaluate(lr_predictions))\n",
    "\n",
    "lrMAE_evaluator = RegressionEvaluator(predictionCol=\"prediction\", \\\n",
    "                 labelCol=\"High\",metricName=\"mae\")\n",
    "print(\"Mean Absolute Error (MAE) = %g\" % lrMAE_evaluator.evaluate(lr_predictions))\n",
    "\n",
    "lrRMSE_evaluator = RegressionEvaluator(predictionCol=\"prediction\", \\\n",
    "                 labelCol=\"High\",metricName=\"rmse\")\n",
    "print(\"Root Mean Squared Error (RMSE) = %g\" % lrRMSE_evaluator.evaluate(lr_predictions))"
   ]
  },
  {
   "cell_type": "code",
   "execution_count": 17,
   "metadata": {},
   "outputs": [
    {
     "name": "stdout",
     "output_type": "stream",
     "text": [
      "+------------------+--------+--------------------+\n",
      "|        prediction|    High|            features|\n",
      "+------------------+--------+--------------------+\n",
      "|2.2247772006504936|    2.85|[0.604737,2.85,0....|\n",
      "|0.9205000483370231|0.791416|[0.747475,0.79141...|\n",
      "|1.0357984418331676|0.959354|[0.752345,0.95935...|\n",
      "|0.9788034273784296|0.861533|[0.771917,0.86153...|\n",
      "|0.9385221074426853|0.801659|[0.781763,0.80165...|\n",
      "|0.9640620211283768|0.833355|[0.78219,0.833355...|\n",
      "|0.9445662454281998|0.807527|[0.80224,0.807527...|\n",
      "|0.9994323434662948|0.871926|[0.809507,0.87192...|\n",
      "|1.0081077965192067|0.862085|[0.858654,0.86208...|\n",
      "| 1.019023461158049|0.872324|[0.869411,0.87232...|\n",
      "| 1.067671793035531|0.930568|[0.891515,0.93056...|\n",
      "|1.0401646893306518|0.899389|[0.892677,0.89938...|\n",
      "|  1.11940538204181|0.998996|[0.909894,0.99899...|\n",
      "|1.0771603470095712|0.942472|[0.917254,0.94247...|\n",
      "|0.9631719698068113|0.932862|[0.931993,0.93286...|\n",
      "|1.0840122811643413|0.941046|[0.941046,0.94104...|\n",
      "| 1.176237523446168|    1.04|[1.03,1.04,0.9878...|\n",
      "| 1.208988895510661|    1.07|[1.04,1.07,1.03,1...|\n",
      "|1.2053138036527595|    1.06|[1.05,1.06,1.04,1...|\n",
      "|1.2495434899071678|    1.12|[1.05,1.12,1.04,1...|\n",
      "+------------------+--------+--------------------+\n",
      "only showing top 20 rows\n",
      "\n"
     ]
    }
   ],
   "source": [
    "# Using our Linear Regression model to make some predictions.\n",
    "\n",
    "predictions = lr_model.transform(test_data)\n",
    "predictions.select(\"prediction\",\"High\",\"features\").show()"
   ]
  },
  {
   "cell_type": "code",
   "execution_count": 18,
   "metadata": {},
   "outputs": [
    {
     "name": "stdout",
     "output_type": "stream",
     "text": [
      "Coefficients: [3.5872505322974137e-16,0.9999999999999994,-3.164968304102339e-16,5.446632011051353e-16]\n",
      "Intercept: -5.1729286299937506e-17\n",
      "\n",
      "MAE: 4.814118691673876e-16\n",
      "RMSE: 1.276322627370726e-15\n",
      "R2: 1.0\n"
     ]
    }
   ],
   "source": [
    "# Importing the LR package.\n",
    "from pyspark.ml.regression import LinearRegression\n",
    "\n",
    "# Instantiate the instance.\n",
    "lr = LinearRegression(featuresCol='features', labelCol='High')\n",
    "\n",
    "# Fit the vector_output\n",
    "lr_model = lr.fit(vector_output)\n",
    "\n",
    "# Print the coefficients.\n",
    "print(\"Coefficients: \" + str(lr_model.coefficients))\n",
    "\n",
    "# Print the intercept.\n",
    "print(\"Intercept: \" + str(lr_model.intercept) + \"\\n\")\n",
    "\n",
    "# Summarise the model and print out some evaluation metrics.\n",
    "vdf3_Summary = lr_model.summary\n",
    "\n",
    "# Print MAE (Mean Absolute Error)\n",
    "print(\"MAE: \" + str(vdf3_Summary.meanAbsoluteError))\n",
    "\n",
    "# Print RMSE (Root Mean Squared Error) \n",
    "print(\"RMSE: \" + str(vdf3_Summary.rootMeanSquaredError))\n",
    "\n",
    "# Print R2 (R Squarred)\n",
    "print(\"R2: \" + str(vdf3_Summary.r2))"
   ]
  },
  {
   "cell_type": "code",
   "execution_count": 19,
   "metadata": {},
   "outputs": [
    {
     "name": "stdout",
     "output_type": "stream",
     "text": [
      "+-------+-----------------+\n",
      "|summary|             High|\n",
      "+-------+-----------------+\n",
      "|  count|             1761|\n",
      "|   mean|7.867908806360018|\n",
      "| stddev| 9.09130871892865|\n",
      "|    min|         0.766068|\n",
      "|    max|            53.15|\n",
      "+-------+-----------------+\n",
      "\n"
     ]
    }
   ],
   "source": [
    "vector_output.describe().show()\n"
   ]
  },
  {
   "cell_type": "code",
   "execution_count": 20,
   "metadata": {},
   "outputs": [
    {
     "name": "stdout",
     "output_type": "stream",
     "text": [
      "+------------------+-----+--------------------+\n",
      "|        prediction| High|            features|\n",
      "+------------------+-----+--------------------+\n",
      "|             43.96|43.96|[39.41,43.96,38.2...|\n",
      "|             40.26|40.26|[34.69,40.26,33.9...|\n",
      "|35.080000000000005|35.08|[35.01,35.08,31.5...|\n",
      "|              35.4| 35.4|[34.97,35.4,34.38...|\n",
      "| 35.34000000000001|35.34|[34.43,35.34,32.9...|\n",
      "+------------------+-----+--------------------+\n",
      "only showing top 5 rows\n",
      "\n",
      "R Squared (R2) = 1\n",
      "Mean Absolute Error (MAE) = 4.81412e-16\n",
      "Root Mean Squared Error (RMSE) = 1.27632e-15\n"
     ]
    }
   ],
   "source": [
    "# Linear Regression model \n",
    "\n",
    "lr_predictions = lr_model.transform(vector_output)\n",
    "lr_predictions.select(\"prediction\",\"High\",\"features\").show(5)\n",
    "from pyspark.ml.evaluation import RegressionEvaluator\n",
    "\n",
    "lrR2_evaluator = RegressionEvaluator(predictionCol=\"prediction\", \\\n",
    "                 labelCol=\"High\",metricName=\"r2\")\n",
    "print(\"R Squared (R2) = %g\" % lrR2_evaluator.evaluate(lr_predictions))\n",
    "\n",
    "lrMAE_evaluator = RegressionEvaluator(predictionCol=\"prediction\", \\\n",
    "                 labelCol=\"High\",metricName=\"mae\")\n",
    "print(\"Mean Absolute Error (MAE) = %g\" % lrMAE_evaluator.evaluate(lr_predictions))\n",
    "\n",
    "lrRMSE_evaluator = RegressionEvaluator(predictionCol=\"prediction\", \\\n",
    "                 labelCol=\"High\",metricName=\"rmse\")\n",
    "print(\"Root Mean Squared Error (RMSE) = %g\" % lrRMSE_evaluator.evaluate(lr_predictions))"
   ]
  },
  {
   "cell_type": "code",
   "execution_count": 21,
   "metadata": {},
   "outputs": [
    {
     "data": {
      "text/plain": [
       "<matplotlib.axes._subplots.AxesSubplot at 0x7fbbc61d8710>"
      ]
     },
     "execution_count": 21,
     "metadata": {},
     "output_type": "execute_result"
    },
    {
     "data": {
      "image/png": "[encoded data removed]",
      "text/plain": [
       "<Figure size 432x288 with 1 Axes>"
      ]
     },
     "metadata": {},
     "output_type": "display_data"
    }
   ],
   "source": [
    "# Convert the Pyspark contructed dataframe to Pandas dataframe to visualize\n",
    "lr_predictionsPandas = lr_predictions.toPandas()\n",
    "\n",
    "plt.style.use('Solarize_Light2')\n",
    "lr_predictionsPandas.plot(x=\"High\" ,y='prediction')"
   ]
  },
  {
   "cell_type": "code",
   "execution_count": 22,
   "metadata": {},
   "outputs": [
    {
     "name": "stdout",
     "output_type": "stream",
     "text": [
      "+-------+-----------------+-----------------+\n",
      "|summary|             High|       prediction|\n",
      "+-------+-----------------+-----------------+\n",
      "|  count|             1761|             1761|\n",
      "|   mean|7.867908806360018|7.867908806360018|\n",
      "| stddev| 9.09130871892865|9.091308718928648|\n",
      "|    min|         0.766068|         0.766068|\n",
      "|    max|            53.15|53.14999999999999|\n",
      "+-------+-----------------+-----------------+\n",
      "\n"
     ]
    }
   ],
   "source": [
    "lr_predictions.describe().show()"
   ]
  },
  {
   "cell_type": "code",
   "execution_count": 23,
   "metadata": {},
   "outputs": [
    {
     "name": "stdout",
     "output_type": "stream",
     "text": [
      "+--------------------+-----+------------------+\n",
      "|            features| High|        prediction|\n",
      "+--------------------+-----+------------------+\n",
      "|[39.41,43.96,38.2...|43.96|             43.96|\n",
      "|[34.69,40.26,33.9...|40.26|             40.26|\n",
      "|[35.01,35.08,31.5...|35.08|35.080000000000005|\n",
      "|[34.97,35.4,34.38...| 35.4|              35.4|\n",
      "|[34.43,35.34,32.9...|35.34| 35.34000000000001|\n",
      "|[34.83,35.65,32.8...|35.65|35.650000000000006|\n",
      "|[34.32,36.44,33.4...|36.44|36.440000000000005|\n",
      "|[29.88,34.73,28.3...|34.73|34.730000000000004|\n",
      "|[24.31,30.33,24.3...|30.33|             30.33|\n",
      "|[24.53,26.0,21.42...| 26.0|              26.0|\n",
      "|[25.95,26.65,23.0...|26.65|26.650000000000002|\n",
      "|[21.89,26.21,21.0...|26.21|             26.21|\n",
      "|[18.15,21.96,18.1...|21.96|             21.96|\n",
      "|[19.18,20.45,17.4...|20.45|             20.45|\n",
      "|[16.75,19.42,14.0...|19.42|19.420000000000005|\n",
      "|[20.76,21.19,15.8...|21.19|21.190000000000005|\n",
      "|[24.19,24.73,19.9...|24.73|24.729999999999997|\n",
      "|[23.15,24.74,20.7...|24.74|             24.74|\n",
      "|[24.95,24.95,18.3...|24.95|24.950000000000003|\n",
      "|[28.77,28.88,23.7...|28.88|             28.88|\n",
      "+--------------------+-----+------------------+\n",
      "only showing top 20 rows\n",
      "\n"
     ]
    }
   ],
   "source": [
    "lr_predictions.show()\n"
   ]
  },
  {
   "cell_type": "code",
   "execution_count": 24,
   "metadata": {},
   "outputs": [
    {
     "name": "stdout",
     "output_type": "stream",
     "text": [
      "+-------+-----------------+\n",
      "|summary|             High|\n",
      "+-------+-----------------+\n",
      "|  count|             1394|\n",
      "|   mean|7.954656309899568|\n",
      "| stddev|9.164217884857202|\n",
      "|    min|         0.766068|\n",
      "|    max|            47.94|\n",
      "+-------+-----------------+\n",
      "\n"
     ]
    }
   ],
   "source": [
    "train_data.describe().show()"
   ]
  },
  {
   "cell_type": "code",
   "execution_count": 25,
   "metadata": {},
   "outputs": [
    {
     "name": "stdout",
     "output_type": "stream",
     "text": [
      "RMSE on test data: 9.64968141011094e-16\n",
      "R2 on test data: 1.0\n"
     ]
    }
   ],
   "source": [
    "test_results = lr_model.evaluate(test_data)\n",
    "print(\"RMSE on test data: \" + str(test_results.rootMeanSquaredError))\n",
    "print(\"R2 on test data: \" + str(test_results.r2))"
   ]
  },
  {
   "cell_type": "code",
   "execution_count": 26,
   "metadata": {},
   "outputs": [
    {
     "name": "stdout",
     "output_type": "stream",
     "text": [
      "Root Mean Squared Error (RMSE) on vector_output = 0.885042\n",
      "Mean Absolute Error (MAE) on vector_output = 0.389038\n",
      "R-Squared (R2) on vector_output = 0.990518\n"
     ]
    }
   ],
   "source": [
    "# Decision Tree Regression\n",
    "\n",
    "from pyspark.ml.regression import DecisionTreeRegressor\n",
    "from pyspark.ml.evaluation import RegressionEvaluator\n",
    "\n",
    "dt = DecisionTreeRegressor(featuresCol ='features', labelCol = 'High')\n",
    "dt_model = dt.fit(vector_output)\n",
    "dt_predictions = dt_model.transform(vector_output)\n",
    "\n",
    "# RMSE\n",
    "dtr_evaluator = RegressionEvaluator(\n",
    "    labelCol=\"High\", predictionCol=\"prediction\", metricName=\"rmse\")\n",
    "rmse = dtr_evaluator.evaluate(dt_predictions)\n",
    "print(\"Root Mean Squared Error (RMSE) on vector_output = %g\" % rmse)\n",
    "\n",
    "# MAE\n",
    "dtm_evaluator = RegressionEvaluator(\n",
    "    labelCol=\"High\", predictionCol=\"prediction\", metricName=\"mae\")\n",
    "mae = dtm_evaluator.evaluate(dt_predictions)\n",
    "print(\"Mean Absolute Error (MAE) on vector_output = %g\" % mae)\n",
    "\n",
    "# R2\n",
    "dtr2_evaluator = RegressionEvaluator(\n",
    "    labelCol=\"High\", predictionCol=\"prediction\", metricName=\"r2\")\n",
    "r2 = dtr2_evaluator.evaluate(dt_predictions)\n",
    "print(\"R-Squared (R2) on vector_output = %g\" % r2)"
   ]
  },
  {
   "cell_type": "code",
   "execution_count": 27,
   "metadata": {},
   "outputs": [
    {
     "data": {
      "text/plain": [
       "SparseVector(4, {0: 0.0018, 1: 0.9974, 2: 0.0006, 3: 0.0002})"
      ]
     },
     "execution_count": 27,
     "metadata": {},
     "output_type": "execute_result"
    }
   ],
   "source": [
    "# Feature Importance\n",
    "dt_model.featureImportances"
   ]
  },
  {
   "cell_type": "code",
   "execution_count": 28,
   "metadata": {},
   "outputs": [
    {
     "data": {
      "text/plain": [
       "[Row(Open=39.41, High=43.96, Low=38.23, Close=38.47)]"
      ]
     },
     "execution_count": 28,
     "metadata": {},
     "output_type": "execute_result"
    }
   ],
   "source": [
    "\n",
    "new_ep.take(1)"
   ]
  },
  {
   "cell_type": "code",
   "execution_count": 29,
   "metadata": {},
   "outputs": [
    {
     "name": "stdout",
     "output_type": "stream",
     "text": [
      "+------------------+-----+--------------------+\n",
      "|        prediction| High|            features|\n",
      "+------------------+-----+--------------------+\n",
      "| 40.14371878444026|43.96|[39.41,43.96,38.2...|\n",
      "| 40.14371878444026|40.26|[34.69,40.26,33.9...|\n",
      "| 40.14371878444026|35.08|[35.01,35.08,31.5...|\n",
      "| 40.14371878444026| 35.4|[34.97,35.4,34.38...|\n",
      "| 40.14371878444026|35.34|[34.43,35.34,32.9...|\n",
      "| 40.14371878444026|35.65|[34.83,35.65,32.8...|\n",
      "| 40.14371878444026|36.44|[34.32,36.44,33.4...|\n",
      "| 35.26251114623783|34.73|[29.88,34.73,28.3...|\n",
      "|27.904441476096437|30.33|[24.31,30.33,24.3...|\n",
      "|28.495777833345823| 26.0|[24.53,26.0,21.42...|\n",
      "|28.495777833345823|26.65|[25.95,26.65,23.0...|\n",
      "+------------------+-----+--------------------+\n",
      "only showing top 11 rows\n",
      "\n"
     ]
    }
   ],
   "source": [
    "#Gradient boosted tree regression\n",
    "from pyspark.ml.regression import GBTRegressor\n",
    "gbt = GBTRegressor(featuresCol = 'features', labelCol = 'High', maxIter=10)\n",
    "gbt_model = gbt.fit(vector_output)\n",
    "gbt_predictions = gbt_model.transform(vector_output)\n",
    "gbt_predictions.select('prediction', 'High', 'features').show(11)"
   ]
  },
  {
   "cell_type": "code",
   "execution_count": 30,
   "metadata": {},
   "outputs": [
    {
     "name": "stdout",
     "output_type": "stream",
     "text": [
      "Root Mean Squared Error (RMSE) on vector_output = 0.855442\n",
      "Mean Absolute Error (MAE) on vector_output = 0.334282\n",
      "R Squarred (R2) on vector_output = 0.991141\n"
     ]
    }
   ],
   "source": [
    "# Gradient-boosted tree model evaluation\n",
    "\n",
    "# Root Mean Squared Error (RMSE)\n",
    "gbt_evaluator_RMSE = RegressionEvaluator(\n",
    "    labelCol=\"High\", predictionCol=\"prediction\", metricName=\"rmse\")\n",
    "grmse = gbt_evaluator_RMSE.evaluate(gbt_predictions)\n",
    "print(\"Root Mean Squared Error (RMSE) on vector_output = %g\" % grmse)\n",
    "\n",
    "# Mean Absolute Error (MAE)\n",
    "gbt_evaluator_MAE = RegressionEvaluator(\n",
    "    labelCol=\"High\", predictionCol=\"prediction\", metricName=\"mae\")\n",
    "gmae = gbt_evaluator_MAE.evaluate(gbt_predictions)\n",
    "print(\"Mean Absolute Error (MAE) on vector_output = %g\" % gmae)\n",
    "\n",
    "# R Squarred (R2)\n",
    "gbt_evaluator_R2 = RegressionEvaluator(\n",
    "    labelCol=\"High\", predictionCol=\"prediction\", metricName=\"r2\")\n",
    "gr2 = gbt_evaluator_R2.evaluate(gbt_predictions)\n",
    "print(\"R Squarred (R2) on vector_output = %g\" % gr2)"
   ]
  },
  {
   "cell_type": "code",
   "execution_count": 31,
   "metadata": {},
   "outputs": [
    {
     "data": {
      "text/plain": [
       "SparseVector(4, {0: 0.1866, 1: 0.6015, 2: 0.1361, 3: 0.0757})"
      ]
     },
     "execution_count": 31,
     "metadata": {},
     "output_type": "execute_result"
    }
   ],
   "source": [
    "# Feature Importance of Gradient-boosted tree regression\n",
    "gbt_model.featureImportances"
   ]
  },
  {
   "cell_type": "code",
   "execution_count": 32,
   "metadata": {},
   "outputs": [
    {
     "data": {
      "text/plain": [
       "<matplotlib.axes._subplots.AxesSubplot at 0x7fbbc6251278>"
      ]
     },
     "execution_count": 32,
     "metadata": {},
     "output_type": "execute_result"
    },
    {
     "data": {
      "image/png": "[encoded data removed]",
      "text/plain": [
       "<Figure size 432x288 with 1 Axes>"
      ]
     },
     "metadata": {},
     "output_type": "display_data"
    }
   ],
   "source": [
    "# Convert the Pyspark contructed dataframe to Pandas dataframe to visualize\n",
    "gbt_predictionsPandas = gbt_predictions.toPandas()\n",
    "\n",
    "plt.style.use('Solarize_Light2')\n",
    "gbt_predictionsPandas.plot(x=\"High\" ,y='prediction')"
   ]
  },
  {
   "cell_type": "code",
   "execution_count": 33,
   "metadata": {},
   "outputs": [
    {
     "name": "stdout",
     "output_type": "stream",
     "text": [
      "+-------+-----------------+------------------+\n",
      "|summary|             High|        prediction|\n",
      "+-------+-----------------+------------------+\n",
      "|  count|             1761|              1761|\n",
      "|   mean|7.867908806360018| 7.867908806360004|\n",
      "| stddev| 9.09130871892865| 9.054524340380706|\n",
      "|    min|         0.766068|0.9642619719356319|\n",
      "|    max|            53.15| 40.14371878444026|\n",
      "+-------+-----------------+------------------+\n",
      "\n"
     ]
    }
   ],
   "source": [
    "gbt_predictions.describe().show()"
   ]
  },
  {
   "cell_type": "code",
   "execution_count": 34,
   "metadata": {},
   "outputs": [
    {
     "name": "stdout",
     "output_type": "stream",
     "text": [
      "+------------------+--------+--------------------+\n",
      "|        prediction|    High|            features|\n",
      "+------------------+--------+--------------------+\n",
      "| 2.911395046795504|    2.85|[0.604737,2.85,0....|\n",
      "|0.9894732207738082|0.791416|[0.747475,0.79141...|\n",
      "|0.9894732207738082|0.959354|[0.752345,0.95935...|\n",
      "|0.9894732207738082|0.861533|[0.771917,0.86153...|\n",
      "|0.9894732207738082|0.801659|[0.781763,0.80165...|\n",
      "|0.9894732207738082|0.833355|[0.78219,0.833355...|\n",
      "|0.9894732207738082|0.807527|[0.80224,0.807527...|\n",
      "|0.9894732207738082|0.871926|[0.809507,0.87192...|\n",
      "|0.9894732207738082|0.862085|[0.858654,0.86208...|\n",
      "|0.9894732207738082|0.872324|[0.869411,0.87232...|\n",
      "|0.9894732207738082|0.930568|[0.891515,0.93056...|\n",
      "+------------------+--------+--------------------+\n",
      "only showing top 11 rows\n",
      "\n"
     ]
    }
   ],
   "source": [
    "# Gradient-boosted Tree Regression on train and test data (split data)\n",
    "\n",
    "from pyspark.ml.regression import GBTRegressor\n",
    "gbt = GBTRegressor(featuresCol = 'features', labelCol = 'High', maxIter=10)\n",
    "gbt_model = gbt.fit(train_data)\n",
    "gbt_predictions = gbt_model.transform(test_data)\n",
    "gbt_predictions.select('prediction', 'High', 'features').show(11)"
   ]
  },
  {
   "cell_type": "code",
   "execution_count": 35,
   "metadata": {},
   "outputs": [
    {
     "name": "stdout",
     "output_type": "stream",
     "text": [
      "Root Mean Squared Error (RMSE) = 0.959928\n",
      "Mean Absolute Error (MAE) = 0.315344\n",
      "R Squarred (R2) = 0.988104\n"
     ]
    }
   ],
   "source": [
    "# Root Mean Squared Error (RMSE)\n",
    "gbt_evaluator_RMSE = RegressionEvaluator(\n",
    "    labelCol=\"High\", predictionCol=\"prediction\", metricName=\"rmse\")\n",
    "grmse = gbt_evaluator_RMSE.evaluate(gbt_predictions)\n",
    "print(\"Root Mean Squared Error (RMSE) = %g\" % grmse)\n",
    "\n",
    "# Mean Absolute Error (MAE)\n",
    "gbt_evaluator_MAE = RegressionEvaluator(\n",
    "    labelCol=\"High\", predictionCol=\"prediction\", metricName=\"mae\")\n",
    "gmae = gbt_evaluator_MAE.evaluate(gbt_predictions)\n",
    "print(\"Mean Absolute Error (MAE) = %g\" % gmae)\n",
    "\n",
    "# R Squarred (R2)\n",
    "gbt_evaluator_R2 = RegressionEvaluator(\n",
    "    labelCol=\"High\", predictionCol=\"prediction\", metricName=\"r2\")\n",
    "gr2 = gbt_evaluator_R2.evaluate(gbt_predictions)\n",
    "print(\"R Squarred (R2) = %g\" % gr2)"
   ]
  },
  {
   "cell_type": "code",
   "execution_count": null,
   "metadata": {},
   "outputs": [],
   "source": []
  }
 ],
 "metadata": {
  "kernelspec": {
   "display_name": "Python 3",
   "language": "python",
   "name": "python3"
  },
  "language_info": {
   "codemirror_mode": {
    "name": "ipython",
    "version": 3
   },
   "file_extension": ".py",
   "mimetype": "text/x-python",
   "name": "python",
   "nbconvert_exporter": "python",
   "pygments_lexer": "ipython3",
   "version": "3.5.2"
  }
 },
 "nbformat": 4,
 "nbformat_minor": 2
}
