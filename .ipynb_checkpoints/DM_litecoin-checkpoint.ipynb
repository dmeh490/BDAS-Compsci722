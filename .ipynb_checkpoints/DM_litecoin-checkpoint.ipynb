{
 "cells": [
  {
   "cell_type": "code",
   "execution_count": 1,
   "metadata": {},
   "outputs": [],
   "source": [
    "import findspark\n",
    "findspark.init('/home/ubuntu/spark-2.1.1-bin-hadoop2.7')\n",
    "import pyspark\n",
    "from pyspark.sql import SparkSession\n",
    "spark = SparkSession.builder.appName('DM_litecoin').getOrCreate()\n",
    "\n",
    "lp = spark.read.csv('Dataset_main/litecoin_price (1).csv',header=True,inferSchema=True)"
   ]
  },
  {
   "cell_type": "code",
   "execution_count": 2,
   "metadata": {},
   "outputs": [
    {
     "data": {
      "text/html": [
       "<div>\n",
       "<style scoped>\n",
       "    .dataframe tbody tr th:only-of-type {\n",
       "        vertical-align: middle;\n",
       "    }\n",
       "\n",
       "    .dataframe tbody tr th {\n",
       "        vertical-align: top;\n",
       "    }\n",
       "\n",
       "    .dataframe thead th {\n",
       "        text-align: right;\n",
       "    }\n",
       "</style>\n",
       "<table border=\"1\" class=\"dataframe\">\n",
       "  <thead>\n",
       "    <tr style=\"text-align: right;\">\n",
       "      <th></th>\n",
       "      <th>0</th>\n",
       "      <th>1</th>\n",
       "      <th>2</th>\n",
       "      <th>3</th>\n",
       "      <th>4</th>\n",
       "    </tr>\n",
       "  </thead>\n",
       "  <tbody>\n",
       "    <tr>\n",
       "      <th>summary</th>\n",
       "      <td>count</td>\n",
       "      <td>mean</td>\n",
       "      <td>stddev</td>\n",
       "      <td>min</td>\n",
       "      <td>max</td>\n",
       "    </tr>\n",
       "    <tr>\n",
       "      <th>Open</th>\n",
       "      <td>1760</td>\n",
       "      <td>20.380522727272762</td>\n",
       "      <td>46.937995834277466</td>\n",
       "      <td>1.15</td>\n",
       "      <td>359.13</td>\n",
       "    </tr>\n",
       "    <tr>\n",
       "      <th>High</th>\n",
       "      <td>1760</td>\n",
       "      <td>21.55526136363641</td>\n",
       "      <td>50.1425657590246</td>\n",
       "      <td>1.34</td>\n",
       "      <td>375.29</td>\n",
       "    </tr>\n",
       "    <tr>\n",
       "      <th>Low</th>\n",
       "      <td>1760</td>\n",
       "      <td>19.16557954545455</td>\n",
       "      <td>43.54057576211996</td>\n",
       "      <td>1.11</td>\n",
       "      <td>335.68</td>\n",
       "    </tr>\n",
       "    <tr>\n",
       "      <th>Close</th>\n",
       "      <td>1760</td>\n",
       "      <td>20.496602272727326</td>\n",
       "      <td>47.15935425968839</td>\n",
       "      <td>1.16</td>\n",
       "      <td>358.34</td>\n",
       "    </tr>\n",
       "  </tbody>\n",
       "</table>\n",
       "</div>"
      ],
      "text/plain": [
       "             0                   1                   2     3       4\n",
       "summary  count                mean              stddev   min     max\n",
       "Open      1760  20.380522727272762  46.937995834277466  1.15  359.13\n",
       "High      1760   21.55526136363641    50.1425657590246  1.34  375.29\n",
       "Low       1760   19.16557954545455   43.54057576211996  1.11  335.68\n",
       "Close     1760  20.496602272727326   47.15935425968839  1.16  358.34"
      ]
     },
     "execution_count": 2,
     "metadata": {},
     "output_type": "execute_result"
    }
   ],
   "source": [
    "import pandas as pd\n",
    "new_lp = lp.select('Open', 'High', 'Low', 'Close')\n",
    "new_lp.describe().toPandas().transpose()"
   ]
  },
  {
   "cell_type": "code",
   "execution_count": 3,
   "metadata": {},
   "outputs": [
    {
     "name": "stdout",
     "output_type": "stream",
     "text": [
      "root\n",
      " |-- Open: double (nullable = true)\n",
      " |-- High: double (nullable = true)\n",
      " |-- Low: double (nullable = true)\n",
      " |-- Close: double (nullable = true)\n",
      " |-- features: vector (nullable = true)\n",
      "\n"
     ]
    },
    {
     "data": {
      "text/plain": [
       "[Row(Open=223.09, High=253.9, Low=222.51, Close=232.85, features=DenseVector([223.09, 253.9, 222.51, 232.85]))]"
      ]
     },
     "execution_count": 3,
     "metadata": {},
     "output_type": "execute_result"
    }
   ],
   "source": [
    "#Reduce data.\n",
    "from pyspark.ml.feature import VectorAssembler\n",
    "\n",
    "vector_assembler = VectorAssembler(inputCols = ['Open', 'High', 'Low', 'Close'], outputCol = 'features')\n",
    "vector_output = vector_assembler.transform(new_lp)\n",
    "vector_output.printSchema()\n",
    "vector_output.head(1)"
   ]
  },
  {
   "cell_type": "code",
   "execution_count": 4,
   "metadata": {},
   "outputs": [
    {
     "name": "stdout",
     "output_type": "stream",
     "text": [
      "[Row(features=DenseVector([223.09, 253.9, 222.51, 232.85]), High=253.9)]\n"
     ]
    },
    {
     "data": {
      "text/html": [
       "<div>\n",
       "<style scoped>\n",
       "    .dataframe tbody tr th:only-of-type {\n",
       "        vertical-align: middle;\n",
       "    }\n",
       "\n",
       "    .dataframe tbody tr th {\n",
       "        vertical-align: top;\n",
       "    }\n",
       "\n",
       "    .dataframe thead th {\n",
       "        text-align: right;\n",
       "    }\n",
       "</style>\n",
       "<table border=\"1\" class=\"dataframe\">\n",
       "  <thead>\n",
       "    <tr style=\"text-align: right;\">\n",
       "      <th></th>\n",
       "      <th>features</th>\n",
       "      <th>High</th>\n",
       "    </tr>\n",
       "  </thead>\n",
       "  <tbody>\n",
       "    <tr>\n",
       "      <th>0</th>\n",
       "      <td>[223.09, 253.9, 222.51, 232.85]</td>\n",
       "      <td>253.90</td>\n",
       "    </tr>\n",
       "    <tr>\n",
       "      <th>1</th>\n",
       "      <td>[215.41, 226.97, 215.38, 223.06]</td>\n",
       "      <td>226.97</td>\n",
       "    </tr>\n",
       "    <tr>\n",
       "      <th>2</th>\n",
       "      <td>[230.51, 232.64, 214.46, 215.74]</td>\n",
       "      <td>232.64</td>\n",
       "    </tr>\n",
       "    <tr>\n",
       "      <th>3</th>\n",
       "      <td>[229.5, 233.45, 225.6, 229.47]</td>\n",
       "      <td>233.45</td>\n",
       "    </tr>\n",
       "    <tr>\n",
       "      <th>4</th>\n",
       "      <td>[225.5, 236.09, 212.33, 230.12]</td>\n",
       "      <td>236.09</td>\n",
       "    </tr>\n",
       "    <tr>\n",
       "      <th>5</th>\n",
       "      <td>[212.35, 237.88, 211.17, 225.43]</td>\n",
       "      <td>237.88</td>\n",
       "    </tr>\n",
       "    <tr>\n",
       "      <th>6</th>\n",
       "      <td>[159.58, 218.23, 159.58, 213.36]</td>\n",
       "      <td>218.23</td>\n",
       "    </tr>\n",
       "    <tr>\n",
       "      <th>7</th>\n",
       "      <td>[161.78, 162.37, 153.51, 159.55]</td>\n",
       "      <td>162.37</td>\n",
       "    </tr>\n",
       "    <tr>\n",
       "      <th>8</th>\n",
       "      <td>[150.1, 163.35, 150.1, 161.57]</td>\n",
       "      <td>163.35</td>\n",
       "    </tr>\n",
       "    <tr>\n",
       "      <th>9</th>\n",
       "      <td>[155.39, 155.73, 142.61, 148.99]</td>\n",
       "      <td>155.73</td>\n",
       "    </tr>\n",
       "  </tbody>\n",
       "</table>\n",
       "</div>"
      ],
      "text/plain": [
       "                           features    High\n",
       "0   [223.09, 253.9, 222.51, 232.85]  253.90\n",
       "1  [215.41, 226.97, 215.38, 223.06]  226.97\n",
       "2  [230.51, 232.64, 214.46, 215.74]  232.64\n",
       "3    [229.5, 233.45, 225.6, 229.47]  233.45\n",
       "4   [225.5, 236.09, 212.33, 230.12]  236.09\n",
       "5  [212.35, 237.88, 211.17, 225.43]  237.88\n",
       "6  [159.58, 218.23, 159.58, 213.36]  218.23\n",
       "7  [161.78, 162.37, 153.51, 159.55]  162.37\n",
       "8    [150.1, 163.35, 150.1, 161.57]  163.35\n",
       "9  [155.39, 155.73, 142.61, 148.99]  155.73"
      ]
     },
     "execution_count": 4,
     "metadata": {},
     "output_type": "execute_result"
    }
   ],
   "source": [
    "vector_output = vector_output.select(['features', 'High'])\n",
    "\n",
    "print(vector_output.head(1))\n",
    "pd.DataFrame(vector_output.take(10), columns=vector_output.columns)"
   ]
  },
  {
   "cell_type": "code",
   "execution_count": 5,
   "metadata": {},
   "outputs": [
    {
     "data": {
      "text/html": [
       "<div>\n",
       "<style scoped>\n",
       "    .dataframe tbody tr th:only-of-type {\n",
       "        vertical-align: middle;\n",
       "    }\n",
       "\n",
       "    .dataframe tbody tr th {\n",
       "        vertical-align: top;\n",
       "    }\n",
       "\n",
       "    .dataframe thead th {\n",
       "        text-align: right;\n",
       "    }\n",
       "</style>\n",
       "<table border=\"1\" class=\"dataframe\">\n",
       "  <thead>\n",
       "    <tr style=\"text-align: right;\">\n",
       "      <th></th>\n",
       "      <th>summary</th>\n",
       "      <th>High</th>\n",
       "    </tr>\n",
       "  </thead>\n",
       "  <tbody>\n",
       "    <tr>\n",
       "      <th>0</th>\n",
       "      <td>count</td>\n",
       "      <td>1439</td>\n",
       "    </tr>\n",
       "    <tr>\n",
       "      <th>1</th>\n",
       "      <td>mean</td>\n",
       "      <td>21.497088255733146</td>\n",
       "    </tr>\n",
       "    <tr>\n",
       "      <th>2</th>\n",
       "      <td>stddev</td>\n",
       "      <td>50.00329728140307</td>\n",
       "    </tr>\n",
       "    <tr>\n",
       "      <th>3</th>\n",
       "      <td>min</td>\n",
       "      <td>1.34</td>\n",
       "    </tr>\n",
       "    <tr>\n",
       "      <th>4</th>\n",
       "      <td>max</td>\n",
       "      <td>375.29</td>\n",
       "    </tr>\n",
       "  </tbody>\n",
       "</table>\n",
       "</div>"
      ],
      "text/plain": [
       "  summary                High\n",
       "0   count                1439\n",
       "1    mean  21.497088255733146\n",
       "2  stddev   50.00329728140307\n",
       "3     min                1.34\n",
       "4     max              375.29"
      ]
     },
     "execution_count": 5,
     "metadata": {},
     "output_type": "execute_result"
    }
   ],
   "source": [
    "#Split data.\n",
    "train_data,test_data = vector_output.randomSplit([0.8,0.2])\n",
    "\n",
    "#Describe train data.\n",
    "train_lp = train_data.describe()\n",
    "pd.DataFrame(train_lp.take(5), columns=train_lp.columns)"
   ]
  },
  {
   "cell_type": "code",
   "execution_count": 6,
   "metadata": {},
   "outputs": [
    {
     "data": {
      "text/html": [
       "<div>\n",
       "<style scoped>\n",
       "    .dataframe tbody tr th:only-of-type {\n",
       "        vertical-align: middle;\n",
       "    }\n",
       "\n",
       "    .dataframe tbody tr th {\n",
       "        vertical-align: top;\n",
       "    }\n",
       "\n",
       "    .dataframe thead th {\n",
       "        text-align: right;\n",
       "    }\n",
       "</style>\n",
       "<table border=\"1\" class=\"dataframe\">\n",
       "  <thead>\n",
       "    <tr style=\"text-align: right;\">\n",
       "      <th></th>\n",
       "      <th>summary</th>\n",
       "      <th>High</th>\n",
       "    </tr>\n",
       "  </thead>\n",
       "  <tbody>\n",
       "    <tr>\n",
       "      <th>0</th>\n",
       "      <td>count</td>\n",
       "      <td>321</td>\n",
       "    </tr>\n",
       "    <tr>\n",
       "      <th>1</th>\n",
       "      <td>mean</td>\n",
       "      <td>21.81604361370717</td>\n",
       "    </tr>\n",
       "    <tr>\n",
       "      <th>2</th>\n",
       "      <td>stddev</td>\n",
       "      <td>50.84019706010778</td>\n",
       "    </tr>\n",
       "    <tr>\n",
       "      <th>3</th>\n",
       "      <td>min</td>\n",
       "      <td>1.43</td>\n",
       "    </tr>\n",
       "    <tr>\n",
       "      <th>4</th>\n",
       "      <td>max</td>\n",
       "      <td>320.3</td>\n",
       "    </tr>\n",
       "  </tbody>\n",
       "</table>\n",
       "</div>"
      ],
      "text/plain": [
       "  summary               High\n",
       "0   count                321\n",
       "1    mean  21.81604361370717\n",
       "2  stddev  50.84019706010778\n",
       "3     min               1.43\n",
       "4     max              320.3"
      ]
     },
     "execution_count": 6,
     "metadata": {},
     "output_type": "execute_result"
    }
   ],
   "source": [
    "#Describe test data.\n",
    "test_lp = test_data.describe()\n",
    "pd.DataFrame(test_lp.take(5), columns=test_lp.columns)"
   ]
  },
  {
   "cell_type": "code",
   "execution_count": 7,
   "metadata": {},
   "outputs": [
    {
     "name": "stdout",
     "output_type": "stream",
     "text": [
      "Coefficients: \n",
      "\t(High/Open): -8.736347841565012e-16\n",
      "\t(High/High): 1.0000000000000016\n",
      "\t(High/Low): 6.683255853755271e-16\n",
      "\t(High/Close): -1.5618095664458875e-15\n",
      "Intercept: 1.8401554483654676e-16\n",
      "\n",
      "RMSE: 1.1290211514326885e-14\n",
      "R2: 1.0\n",
      "\n",
      "\n"
     ]
    },
    {
     "data": {
      "text/html": [
       "<div>\n",
       "<style scoped>\n",
       "    .dataframe tbody tr th:only-of-type {\n",
       "        vertical-align: middle;\n",
       "    }\n",
       "\n",
       "    .dataframe tbody tr th {\n",
       "        vertical-align: top;\n",
       "    }\n",
       "\n",
       "    .dataframe thead th {\n",
       "        text-align: right;\n",
       "    }\n",
       "</style>\n",
       "<table border=\"1\" class=\"dataframe\">\n",
       "  <thead>\n",
       "    <tr style=\"text-align: right;\">\n",
       "      <th></th>\n",
       "      <th>residuals</th>\n",
       "    </tr>\n",
       "  </thead>\n",
       "  <tbody>\n",
       "    <tr>\n",
       "      <th>0</th>\n",
       "      <td>0.000000e+00</td>\n",
       "    </tr>\n",
       "    <tr>\n",
       "      <th>1</th>\n",
       "      <td>0.000000e+00</td>\n",
       "    </tr>\n",
       "    <tr>\n",
       "      <th>2</th>\n",
       "      <td>-2.220446e-16</td>\n",
       "    </tr>\n",
       "    <tr>\n",
       "      <th>3</th>\n",
       "      <td>0.000000e+00</td>\n",
       "    </tr>\n",
       "    <tr>\n",
       "      <th>4</th>\n",
       "      <td>0.000000e+00</td>\n",
       "    </tr>\n",
       "    <tr>\n",
       "      <th>5</th>\n",
       "      <td>-2.220446e-16</td>\n",
       "    </tr>\n",
       "    <tr>\n",
       "      <th>6</th>\n",
       "      <td>0.000000e+00</td>\n",
       "    </tr>\n",
       "    <tr>\n",
       "      <th>7</th>\n",
       "      <td>0.000000e+00</td>\n",
       "    </tr>\n",
       "    <tr>\n",
       "      <th>8</th>\n",
       "      <td>0.000000e+00</td>\n",
       "    </tr>\n",
       "    <tr>\n",
       "      <th>9</th>\n",
       "      <td>0.000000e+00</td>\n",
       "    </tr>\n",
       "  </tbody>\n",
       "</table>\n",
       "</div>"
      ],
      "text/plain": [
       "      residuals\n",
       "0  0.000000e+00\n",
       "1  0.000000e+00\n",
       "2 -2.220446e-16\n",
       "3  0.000000e+00\n",
       "4  0.000000e+00\n",
       "5 -2.220446e-16\n",
       "6  0.000000e+00\n",
       "7  0.000000e+00\n",
       "8  0.000000e+00\n",
       "9  0.000000e+00"
      ]
     },
     "execution_count": 7,
     "metadata": {},
     "output_type": "execute_result"
    }
   ],
   "source": [
    "from pyspark.ml.regression import LinearRegression\n",
    "\n",
    "lr = LinearRegression(featuresCol='features', labelCol='High')\n",
    "lr_model = lr.fit(train_data)\n",
    "print(\"Coefficients: \") \n",
    "x = 0\n",
    "for coe in str(lr_model.coefficients)[1:].replace(\"]\",\"\").split(','):\n",
    "    print(\"\\t(High/\"+new_lp.columns[x]+\"): \"+coe)\n",
    "    x += 1\n",
    "\n",
    "print(\"Intercept: \" + str(lr_model.intercept) + \"\\n\")\n",
    "\n",
    "data_summary = lr_model.summary\n",
    "print(\"RMSE: \" + str(data_summary.rootMeanSquaredError))\n",
    "print(\"R2: \" + str(data_summary.r2))\n",
    "print(\"\\n\")\n",
    "\n",
    "data_resi = data_summary.residuals\n",
    "pd.DataFrame(data_resi.take(10), columns=data_resi.columns)"
   ]
  },
  {
   "cell_type": "code",
   "execution_count": 8,
   "metadata": {},
   "outputs": [
    {
     "data": {
      "text/plain": [
       "<Figure size 640x480 with 1 Axes>"
      ]
     },
     "metadata": {},
     "output_type": "display_data"
    }
   ],
   "source": [
    "import pandas as pd\n",
    "import numpy as np\n",
    "import matplotlib.pyplot as plt\n",
    "\n",
    "resi = data_resi.toPandas()\n",
    "\n",
    "plt.hist(resi['residuals'], 50)\n",
    "plt.xlabel('residuals')\n",
    "plt.title('residuals Histogram')\n",
    "\n",
    "plt.show()"
   ]
  },
  {
   "cell_type": "code",
   "execution_count": 9,
   "metadata": {},
   "outputs": [
    {
     "name": "stdout",
     "output_type": "stream",
     "text": [
      "root\n",
      " |-- Open: double (nullable = true)\n",
      " |-- High: double (nullable = true)\n",
      " |-- Low: double (nullable = true)\n",
      " |-- Close: double (nullable = true)\n",
      " |-- features: vector (nullable = true)\n",
      "\n"
     ]
    },
    {
     "data": {
      "text/plain": [
       "[Row(Open=223.09, High=253.9, Low=222.51, Close=232.85, features=DenseVector([223.09, 253.9, 222.51, 232.85]))]"
      ]
     },
     "execution_count": 9,
     "metadata": {},
     "output_type": "execute_result"
    }
   ],
   "source": [
    "from pyspark.ml.feature import VectorAssembler\n",
    "vector_assembler = VectorAssembler(inputCols = [ 'Open', 'High', 'Low', 'Close'], outputCol = 'features')\n",
    "vector_output = vector_assembler.transform(new_lp)\n",
    "vector_output.printSchema()\n",
    "vector_output.head(1)\n"
   ]
  },
  {
   "cell_type": "code",
   "execution_count": 10,
   "metadata": {},
   "outputs": [
    {
     "name": "stdout",
     "output_type": "stream",
     "text": [
      "[Row(features=DenseVector([223.09, 253.9, 222.51, 232.85]), High=253.9)]\n",
      "+--------------------+------+\n",
      "|            features|  High|\n",
      "+--------------------+------+\n",
      "|[223.09,253.9,222...| 253.9|\n",
      "|[215.41,226.97,21...|226.97|\n",
      "|[230.51,232.64,21...|232.64|\n",
      "+--------------------+------+\n",
      "only showing top 3 rows\n",
      "\n"
     ]
    }
   ],
   "source": [
    "vector_output = vector_output.select(['features', 'High'])\n",
    "print(vector_output.head(1))\n",
    "vector_output.show(3)"
   ]
  },
  {
   "cell_type": "code",
   "execution_count": 11,
   "metadata": {},
   "outputs": [
    {
     "name": "stdout",
     "output_type": "stream",
     "text": [
      "+-------+-----------------+\n",
      "|summary|             High|\n",
      "+-------+-----------------+\n",
      "|  count|             1407|\n",
      "|   mean|22.42831556503198|\n",
      "| stddev| 51.7606590565246|\n",
      "|    min|             1.34|\n",
      "|    max|           375.29|\n",
      "+-------+-----------------+\n",
      "\n",
      "+-------+------------------+\n",
      "|summary|              High|\n",
      "+-------+------------------+\n",
      "|  count|               353|\n",
      "|   mean|18.075410764872522|\n",
      "| stddev|42.983838947879825|\n",
      "|    min|              1.37|\n",
      "|    max|            341.72|\n",
      "+-------+------------------+\n",
      "\n"
     ]
    }
   ],
   "source": [
    "train_data,test_data = vector_output.randomSplit([0.8,0.2])\n",
    "train_data.describe().show()\n",
    "test_data.describe().show()"
   ]
  },
  {
   "cell_type": "code",
   "execution_count": 12,
   "metadata": {},
   "outputs": [
    {
     "name": "stdout",
     "output_type": "stream",
     "text": [
      "Coefficients: [4.32953560888127e-16,0.9999999999999991,-2.257687846047098e-16,7.029999143207509e-16]\n",
      "Intercept: -1.0832189978315051e-16\n",
      "\n",
      "RMSE: 5.267027003773241e-15\n",
      "R2: 1.0\n"
     ]
    }
   ],
   "source": [
    "from pyspark.ml.regression import LinearRegression\n",
    "# Instantiate the instance.\n",
    "lr = LinearRegression(featuresCol='features', labelCol='High')\n",
    "\n",
    "# Fit the training data.\n",
    "lr_model = lr.fit(train_data)\n",
    "\n",
    "# Print the coefficients.\n",
    "print(\"Coefficients: \" + str(lr_model.coefficients))\n",
    "\n",
    "# Print the intercept.\n",
    "print(\"Intercept: \" + str(lr_model.intercept) + \"\\n\")\n",
    "\n",
    "# Summarise the model and print out some evaluation metrics.\n",
    "training_summary = lr_model.summary\n",
    "\n",
    "# Print RMSE. \n",
    "print(\"RMSE: \" + str(training_summary.rootMeanSquaredError))\n",
    "\n",
    "# Print R2.\n",
    "print(\"R2: \" + str(training_summary.r2))"
   ]
  },
  {
   "cell_type": "code",
   "execution_count": 13,
   "metadata": {},
   "outputs": [
    {
     "name": "stdout",
     "output_type": "stream",
     "text": [
      "Coefficients: [0.193504671322559,0.49782250838186215,0.0,0.33385571990830487]\n",
      "Intercept: 0.019890782125144803\n"
     ]
    }
   ],
   "source": [
    "# Linear Regression on train data\n",
    "from pyspark.ml.regression import LinearRegression\n",
    "lr = LinearRegression(featuresCol = 'features', labelCol='High', maxIter=10, regParam=0.3, elasticNetParam=0.8)\n",
    "lr_model = lr.fit(train_data)\n",
    "print(\"Coefficients: \" + str(lr_model.coefficients))\n",
    "print(\"Intercept: \" + str(lr_model.intercept))"
   ]
  },
  {
   "cell_type": "code",
   "execution_count": 14,
   "metadata": {},
   "outputs": [
    {
     "name": "stdout",
     "output_type": "stream",
     "text": [
      "+------------------+----+--------------------+\n",
      "|        prediction|High|            features|\n",
      "+------------------+----+--------------------+\n",
      "| 1.397491798805668|1.37|[1.3,1.37,1.23,1.33]|\n",
      "|1.4587215561809224|1.41|[1.41,1.41,1.39,1...|\n",
      "| 1.470376895662907|1.42|[1.41,1.42,1.39,1...|\n",
      "|1.4820322351448918|1.43|[1.41,1.43,1.38,1...|\n",
      "|1.4822683925437699|1.44|[1.42,1.44,1.4,1.41]|\n",
      "+------------------+----+--------------------+\n",
      "only showing top 5 rows\n",
      "\n",
      "R Squared (R2) = 0.998651\n",
      "Mean Absolute Error (MAE) = 0.345805\n",
      "Root Mean Squared Error (RMSE) = 1.57639\n"
     ]
    }
   ],
   "source": [
    "lr_predictions = lr_model.transform(test_data)\n",
    "lr_predictions.select(\"prediction\",\"High\",\"features\").show(5)\n",
    "\n",
    "from pyspark.ml.evaluation import RegressionEvaluator\n",
    "\n",
    "lrR2_evaluator = RegressionEvaluator(predictionCol=\"prediction\", \\\n",
    "                 labelCol=\"High\",metricName=\"r2\")\n",
    "print(\"R Squared (R2) = %g\" % lrR2_evaluator.evaluate(lr_predictions))\n",
    "\n",
    "lrMAE_evaluator = RegressionEvaluator(predictionCol=\"prediction\", \\\n",
    "                 labelCol=\"High\",metricName=\"mae\")\n",
    "print(\"Mean Absolute Error (MAE) = %g\" % lrMAE_evaluator.evaluate(lr_predictions))\n",
    "\n",
    "lrRMSE_evaluator = RegressionEvaluator(predictionCol=\"prediction\", \\\n",
    "                 labelCol=\"High\",metricName=\"rmse\")\n",
    "print(\"Root Mean Squared Error (RMSE) = %g\" % lrRMSE_evaluator.evaluate(lr_predictions))"
   ]
  },
  {
   "cell_type": "code",
   "execution_count": 15,
   "metadata": {},
   "outputs": [
    {
     "name": "stdout",
     "output_type": "stream",
     "text": [
      "+------------------+----+--------------------+\n",
      "|        prediction|High|            features|\n",
      "+------------------+----+--------------------+\n",
      "| 1.397491798805668|1.37|[1.3,1.37,1.23,1.33]|\n",
      "|1.4587215561809224|1.41|[1.41,1.41,1.39,1...|\n",
      "| 1.470376895662907|1.42|[1.41,1.42,1.39,1...|\n",
      "|1.4820322351448918|1.43|[1.41,1.43,1.38,1...|\n",
      "|1.4822683925437699|1.44|[1.42,1.44,1.4,1.41]|\n",
      "|1.4939237320257546|1.45|[1.42,1.45,1.41,1...|\n",
      "|1.4891816643408142|1.45|[1.43,1.45,1.41,1...|\n",
      "|1.5030674293645145|1.45|[1.45,1.45,1.42,1...|\n",
      "| 1.511384211647416|1.46|[1.45,1.46,1.45,1...|\n",
      "|1.5147227688464993|1.46|[1.45,1.46,1.45,1...|\n",
      "|1.6756496329843307|1.63|[1.62,1.63,1.55,1...|\n",
      "|1.7878148320577696|1.79|[1.65,1.79,1.61,1...|\n",
      "|1.7235702207658836|1.68|[1.67,1.68,1.62,1...|\n",
      "|1.7638098431241465|1.71|[1.68,1.71,1.68,1.7]|\n",
      "|1.7457727680724855|1.69|[1.69,1.69,1.66,1...|\n",
      "| 1.759363154267696| 1.7| [1.7,1.7,1.67,1.69]|\n",
      "|1.7693196044353332|1.72|[1.7,1.72,1.67,1.69]|\n",
      "|1.8352772672685473|1.79|[1.74,1.79,1.65,1...|\n",
      "|1.8551901676038218|1.83|[1.74,1.83,1.74,1...|\n",
      "|1.8890480543924086|1.85|[1.76,1.85,1.75,1...|\n",
      "+------------------+----+--------------------+\n",
      "only showing top 20 rows\n",
      "\n"
     ]
    }
   ],
   "source": [
    "# Using our Linear Regression model to make some predictions.\n",
    "\n",
    "predictions = lr_model.transform(test_data)\n",
    "predictions.select(\"prediction\",\"High\",\"features\").show()"
   ]
  },
  {
   "cell_type": "code",
   "execution_count": 16,
   "metadata": {},
   "outputs": [
    {
     "name": "stdout",
     "output_type": "stream",
     "text": [
      "Coefficients: [-2.175692399471558e-16,1.0000000000000002,1.1920592542340466e-16,-2.857646796474551e-16]\n",
      "Intercept: 3.3392868432425532e-15\n",
      "\n",
      "MAE: 4.296184620177324e-15\n",
      "RMSE: 8.244332790739799e-15\n",
      "R2: 1.0\n"
     ]
    }
   ],
   "source": [
    "# Importing the LR package.\n",
    "from pyspark.ml.regression import LinearRegression\n",
    "\n",
    "# Instantiate the instance.\n",
    "lr = LinearRegression(featuresCol='features', labelCol='High')\n",
    "\n",
    "# Fit the vector_output\n",
    "lr_model = lr.fit(vector_output)\n",
    "\n",
    "# Print the coefficients.\n",
    "print(\"Coefficients: \" + str(lr_model.coefficients))\n",
    "\n",
    "# Print the intercept.\n",
    "print(\"Intercept: \" + str(lr_model.intercept) + \"\\n\")\n",
    "\n",
    "# Summarise the model and print out some evaluation metrics.\n",
    "vdf3_Summary = lr_model.summary\n",
    "\n",
    "# Print MAE (Mean Absolute Error)\n",
    "print(\"MAE: \" + str(vdf3_Summary.meanAbsoluteError))\n",
    "\n",
    "# Print RMSE (Root Mean Squared Error) \n",
    "print(\"RMSE: \" + str(vdf3_Summary.rootMeanSquaredError))\n",
    "\n",
    "# Print R2 (R Squarred)\n",
    "print(\"R2: \" + str(vdf3_Summary.r2))"
   ]
  },
  {
   "cell_type": "code",
   "execution_count": 17,
   "metadata": {},
   "outputs": [
    {
     "name": "stdout",
     "output_type": "stream",
     "text": [
      "+-------+-----------------+\n",
      "|summary|             High|\n",
      "+-------+-----------------+\n",
      "|  count|             1760|\n",
      "|   mean|21.55526136363641|\n",
      "| stddev| 50.1425657590246|\n",
      "|    min|             1.34|\n",
      "|    max|           375.29|\n",
      "+-------+-----------------+\n",
      "\n"
     ]
    }
   ],
   "source": [
    "vector_output.describe().show()\n"
   ]
  },
  {
   "cell_type": "code",
   "execution_count": 18,
   "metadata": {
    "scrolled": true
   },
   "outputs": [
    {
     "name": "stdout",
     "output_type": "stream",
     "text": [
      "+------------------+------+--------------------+\n",
      "|        prediction|  High|            features|\n",
      "+------------------+------+--------------------+\n",
      "|253.89999999999998| 253.9|[223.09,253.9,222...|\n",
      "|226.96999999999997|226.97|[215.41,226.97,21...|\n",
      "|232.63999999999996|232.64|[230.51,232.64,21...|\n",
      "|233.44999999999996|233.45|[229.5,233.45,225...|\n",
      "|236.08999999999997|236.09|[225.5,236.09,212...|\n",
      "+------------------+------+--------------------+\n",
      "only showing top 5 rows\n",
      "\n",
      "R Squared (R2) = 1\n",
      "Mean Absolute Error (MAE) = 4.29618e-15\n",
      "Root Mean Squared Error (RMSE) = 8.24433e-15\n"
     ]
    }
   ],
   "source": [
    "# Linear Regression model \n",
    "\n",
    "lr_predictions = lr_model.transform(vector_output)\n",
    "lr_predictions.select(\"prediction\",\"High\",\"features\").show(5)\n",
    "from pyspark.ml.evaluation import RegressionEvaluator\n",
    "\n",
    "lrR2_evaluator = RegressionEvaluator(predictionCol=\"prediction\", \\\n",
    "                 labelCol=\"High\",metricName=\"r2\")\n",
    "print(\"R Squared (R2) = %g\" % lrR2_evaluator.evaluate(lr_predictions))\n",
    "\n",
    "lrMAE_evaluator = RegressionEvaluator(predictionCol=\"prediction\", \\\n",
    "                 labelCol=\"High\",metricName=\"mae\")\n",
    "print(\"Mean Absolute Error (MAE) = %g\" % lrMAE_evaluator.evaluate(lr_predictions))\n",
    "\n",
    "lrRMSE_evaluator = RegressionEvaluator(predictionCol=\"prediction\", \\\n",
    "                 labelCol=\"High\",metricName=\"rmse\")\n",
    "print(\"Root Mean Squared Error (RMSE) = %g\" % lrRMSE_evaluator.evaluate(lr_predictions))"
   ]
  },
  {
   "cell_type": "code",
   "execution_count": 19,
   "metadata": {},
   "outputs": [
    {
     "name": "stdout",
     "output_type": "stream",
     "text": [
      "Coefficients: [0.19288740467969828,0.49797644942974195,0.0,0.33198382701978485]\n",
      "Intercept: 0.06954570842989938\n"
     ]
    }
   ],
   "source": [
    "# Linear Regression on train data---I3\n",
    "from pyspark.ml.regression import LinearRegression\n",
    "lr = LinearRegression(featuresCol = 'features', labelCol='High', maxIter=15, regParam=0.5, elasticNetParam=0.8)\n",
    "lr_model = lr.fit(train_data)\n",
    "print(\"Coefficients: \" + str(lr_model.coefficients))\n",
    "print(\"Intercept: \" + str(lr_model.intercept))"
   ]
  },
  {
   "cell_type": "code",
   "execution_count": 20,
   "metadata": {},
   "outputs": [
    {
     "name": "stdout",
     "output_type": "stream",
     "text": [
      "+------------------+----+--------------------+\n",
      "|        prediction|High|            features|\n",
      "+------------------+----+--------------------+\n",
      "|1.4440655601685677|1.37|[1.3,1.37,1.23,1.33]|\n",
      "| 1.505121262281711|1.41|[1.41,1.41,1.39,1...|\n",
      "| 1.516740703316404|1.42|[1.41,1.42,1.39,1...|\n",
      "|1.5283601443510972|1.43|[1.41,1.43,1.38,1...|\n",
      "|1.5286291063517958|1.44|[1.42,1.44,1.4,1.41]|\n",
      "+------------------+----+--------------------+\n",
      "only showing top 5 rows\n",
      "\n",
      "R Squared (R2) = 0.998571\n",
      "Mean Absolute Error (MAE) = 0.375812\n",
      "Root Mean Squared Error (RMSE) = 1.62235\n"
     ]
    }
   ],
   "source": [
    "lr_predictions = lr_model.transform(test_data)\n",
    "lr_predictions.select(\"prediction\",\"High\",\"features\").show(5)\n",
    "\n",
    "from pyspark.ml.evaluation import RegressionEvaluator\n",
    "\n",
    "lrR2_evaluator = RegressionEvaluator(predictionCol=\"prediction\", \\\n",
    "                 labelCol=\"High\",metricName=\"r2\")\n",
    "print(\"R Squared (R2) = %g\" % lrR2_evaluator.evaluate(lr_predictions))\n",
    "\n",
    "lrMAE_evaluator = RegressionEvaluator(predictionCol=\"prediction\", \\\n",
    "                 labelCol=\"High\",metricName=\"mae\")\n",
    "print(\"Mean Absolute Error (MAE) = %g\" % lrMAE_evaluator.evaluate(lr_predictions))\n",
    "\n",
    "lrRMSE_evaluator = RegressionEvaluator(predictionCol=\"prediction\", \\\n",
    "                 labelCol=\"High\",metricName=\"rmse\")\n",
    "print(\"Root Mean Squared Error (RMSE) = %g\" % lrRMSE_evaluator.evaluate(lr_predictions))"
   ]
  },
  {
   "cell_type": "code",
   "execution_count": 21,
   "metadata": {},
   "outputs": [
    {
     "data": {
      "text/plain": [
       "<matplotlib.axes._subplots.AxesSubplot at 0x7fea97c50390>"
      ]
     },
     "execution_count": 21,
     "metadata": {},
     "output_type": "execute_result"
    },
    {
     "data": {
      "image/png": "[encoded data removed]",
      "text/plain": [
       "<Figure size 432x288 with 1 Axes>"
      ]
     },
     "metadata": {},
     "output_type": "display_data"
    }
   ],
   "source": [
    "# Convert the Pyspark contructed dataframe to Pandas dataframe to visualize\n",
    "lr_predictionsPandas = lr_predictions.toPandas()\n",
    "\n",
    "plt.style.use('Solarize_Light2')\n",
    "lr_predictionsPandas.plot(x=\"High\" ,y='prediction')"
   ]
  },
  {
   "cell_type": "code",
   "execution_count": 22,
   "metadata": {},
   "outputs": [
    {
     "name": "stdout",
     "output_type": "stream",
     "text": [
      "+-------+------------------+------------------+\n",
      "|summary|              High|        prediction|\n",
      "+-------+------------------+------------------+\n",
      "|  count|               353|               353|\n",
      "|   mean|18.075410764872522|17.995554945340857|\n",
      "| stddev|42.983838947879825|  42.0682815274038|\n",
      "|    min|              1.37|1.4440655601685677|\n",
      "|    max|            341.72| 316.1789227563852|\n",
      "+-------+------------------+------------------+\n",
      "\n"
     ]
    }
   ],
   "source": [
    "# Following is the statistics comparison of the Total Number of Deaths and Prediction\n",
    "lr_predictions.describe().show()"
   ]
  },
  {
   "cell_type": "code",
   "execution_count": 23,
   "metadata": {},
   "outputs": [
    {
     "name": "stdout",
     "output_type": "stream",
     "text": [
      "+--------------------+----+------------------+\n",
      "|            features|High|        prediction|\n",
      "+--------------------+----+------------------+\n",
      "|[1.3,1.37,1.23,1.33]|1.37|1.4440655601685677|\n",
      "|[1.41,1.41,1.39,1...|1.41| 1.505121262281711|\n",
      "|[1.41,1.42,1.39,1...|1.42| 1.516740703316404|\n",
      "|[1.41,1.43,1.38,1...|1.43|1.5283601443510972|\n",
      "|[1.42,1.44,1.4,1.41]|1.44|1.5286291063517958|\n",
      "|[1.42,1.45,1.41,1...|1.45| 1.540248547386489|\n",
      "|[1.43,1.45,1.41,1...|1.45|1.5355377448928902|\n",
      "|[1.45,1.45,1.42,1...|1.45|1.5493550077970777|\n",
      "|[1.45,1.46,1.45,1...|1.46|1.5576546105615732|\n",
      "|[1.45,1.46,1.45,1...|1.46| 1.560974448831771|\n",
      "|[1.62,1.63,1.55,1...|1.63|1.7215792015429479|\n",
      "|[1.65,1.79,1.61,1...|1.79|1.8336007617536803|\n",
      "|[1.67,1.68,1.62,1...|1.68|1.7694017473292112|\n",
      "|[1.68,1.71,1.68,1.7]|1.71|1.8095087827502854|\n",
      "|[1.69,1.69,1.66,1...|1.69| 1.791518612997894|\n",
      "| [1.7,1.7,1.67,1.69]| 1.7|1.8050669280793843|\n",
      "|[1.7,1.72,1.67,1.69]|1.72| 1.815026457067979|\n",
      "|[1.74,1.79,1.65,1...|1.79|1.8808391726066338|\n",
      "|[1.74,1.83,1.74,1...|1.83|1.9007582305838238|\n",
      "|[1.76,1.85,1.75,1...|1.85|1.9344945372871996|\n",
      "+--------------------+----+------------------+\n",
      "only showing top 20 rows\n",
      "\n"
     ]
    }
   ],
   "source": [
    "lr_predictions.show()\n"
   ]
  },
  {
   "cell_type": "code",
   "execution_count": 24,
   "metadata": {},
   "outputs": [
    {
     "name": "stdout",
     "output_type": "stream",
     "text": [
      "+-------+-----------------+\n",
      "|summary|             High|\n",
      "+-------+-----------------+\n",
      "|  count|             1407|\n",
      "|   mean|22.42831556503198|\n",
      "| stddev| 51.7606590565246|\n",
      "|    min|             1.34|\n",
      "|    max|           375.29|\n",
      "+-------+-----------------+\n",
      "\n"
     ]
    }
   ],
   "source": [
    "train_data.describe().show()"
   ]
  },
  {
   "cell_type": "code",
   "execution_count": 25,
   "metadata": {},
   "outputs": [
    {
     "name": "stdout",
     "output_type": "stream",
     "text": [
      "RMSE on test data: 1.62234631005594\n",
      "R2 on test data: 0.9985714061640671\n"
     ]
    }
   ],
   "source": [
    "test_results = lr_model.evaluate(test_data)\n",
    "print(\"RMSE on test data: \" + str(test_results.rootMeanSquaredError))\n",
    "print(\"R2 on test data: \" + str(test_results.r2))"
   ]
  },
  {
   "cell_type": "code",
   "execution_count": 26,
   "metadata": {},
   "outputs": [
    {
     "name": "stdout",
     "output_type": "stream",
     "text": [
      "Root Mean Squared Error (RMSE) on vector_output = 10.3429\n",
      "Mean Absolute Error (MAE) on vector_output = 2.90429\n",
      "R-Squared (R2) on vector_output = 0.957428\n"
     ]
    }
   ],
   "source": [
    "# Decision Tree Regression---I1\n",
    "\n",
    "from pyspark.ml.regression import DecisionTreeRegressor\n",
    "from pyspark.ml.evaluation import RegressionEvaluator\n",
    "\n",
    "dt = DecisionTreeRegressor(featuresCol ='features', labelCol = 'High')\n",
    "dt_model = dt.fit(vector_output)\n",
    "dt_predictions = dt_model.transform(vector_output)\n",
    "\n",
    "# RMSE\n",
    "dtr_evaluator = RegressionEvaluator(\n",
    "    labelCol=\"High\", predictionCol=\"prediction\", metricName=\"rmse\")\n",
    "rmse = dtr_evaluator.evaluate(dt_predictions)\n",
    "print(\"Root Mean Squared Error (RMSE) on vector_output = %g\" % rmse)\n",
    "\n",
    "# MAE\n",
    "dtm_evaluator = RegressionEvaluator(\n",
    "    labelCol=\"High\", predictionCol=\"prediction\", metricName=\"mae\")\n",
    "mae = dtm_evaluator.evaluate(dt_predictions)\n",
    "print(\"Mean Absolute Error (MAE) on vector_output = %g\" % mae)\n",
    "\n",
    "# R2\n",
    "dtr2_evaluator = RegressionEvaluator(\n",
    "    labelCol=\"High\", predictionCol=\"prediction\", metricName=\"r2\")\n",
    "r2 = dtr2_evaluator.evaluate(dt_predictions)\n",
    "print(\"R-Squared (R2) on vector_output = %g\" % r2)"
   ]
  },
  {
   "cell_type": "code",
   "execution_count": 29,
   "metadata": {},
   "outputs": [
    {
     "data": {
      "text/plain": [
       "SparseVector(4, {0: 0.0021, 1: 0.9913, 2: 0.0051, 3: 0.0015})"
      ]
     },
     "execution_count": 29,
     "metadata": {},
     "output_type": "execute_result"
    }
   ],
   "source": [
    "# Feature Importance\n",
    "dt_model.featureImportances"
   ]
  },
  {
   "cell_type": "code",
   "execution_count": 30,
   "metadata": {},
   "outputs": [
    {
     "data": {
      "text/plain": [
       "[Row(Open=223.09, High=253.9, Low=222.51, Close=232.85)]"
      ]
     },
     "execution_count": 30,
     "metadata": {},
     "output_type": "execute_result"
    }
   ],
   "source": [
    "new_lp.take(1)"
   ]
  },
  {
   "cell_type": "code",
   "execution_count": 28,
   "metadata": {},
   "outputs": [
    {
     "name": "stdout",
     "output_type": "stream",
     "text": [
      "+------------------+------+--------------------+\n",
      "|        prediction|  High|            features|\n",
      "+------------------+------+--------------------+\n",
      "| 267.4309698231857| 253.9|[223.09,253.9,222...|\n",
      "| 267.4309698231857|226.97|[215.41,226.97,21...|\n",
      "| 267.4309698231857|232.64|[230.51,232.64,21...|\n",
      "| 267.4309698231857|233.45|[229.5,233.45,225...|\n",
      "| 267.4309698231857|236.09|[225.5,236.09,212...|\n",
      "| 267.4309698231857|237.88|[212.35,237.88,21...|\n",
      "|218.37296982318566|218.23|[159.58,218.23,15...|\n",
      "|113.63330817287559|162.37|[161.78,162.37,15...|\n",
      "|113.63330817287559|163.35|[150.1,163.35,150...|\n",
      "|113.63330817287559|155.73|[155.39,155.73,14...|\n",
      "|113.63330817287559|169.33|[163.49,169.33,14...|\n",
      "+------------------+------+--------------------+\n",
      "only showing top 11 rows\n",
      "\n"
     ]
    }
   ],
   "source": [
    "#Gradient boosted tree regression\n",
    "from pyspark.ml.regression import GBTRegressor\n",
    "gbt = GBTRegressor(featuresCol = 'features', labelCol = 'High', maxIter=10)\n",
    "gbt_model = gbt.fit(vector_output)\n",
    "gbt_predictions = gbt_model.transform(vector_output)\n",
    "gbt_predictions.select('prediction', 'High', 'features').show(11)"
   ]
  },
  {
   "cell_type": "code",
   "execution_count": 31,
   "metadata": {},
   "outputs": [
    {
     "name": "stdout",
     "output_type": "stream",
     "text": [
      "Root Mean Squared Error (RMSE) on vector_output = 10.2\n",
      "Mean Absolute Error (MAE) on vector_output = 2.63094\n",
      "R Squarred (R2) on vector_output = 0.958597\n"
     ]
    }
   ],
   "source": [
    "# Gradient-boosted tree model evaluation\n",
    "\n",
    "# Root Mean Squared Error (RMSE)\n",
    "gbt_evaluator_RMSE = RegressionEvaluator(\n",
    "    labelCol=\"High\", predictionCol=\"prediction\", metricName=\"rmse\")\n",
    "grmse = gbt_evaluator_RMSE.evaluate(gbt_predictions)\n",
    "print(\"Root Mean Squared Error (RMSE) on vector_output = %g\" % grmse)\n",
    "\n",
    "# Mean Absolute Error (MAE)\n",
    "gbt_evaluator_MAE = RegressionEvaluator(\n",
    "    labelCol=\"High\", predictionCol=\"prediction\", metricName=\"mae\")\n",
    "gmae = gbt_evaluator_MAE.evaluate(gbt_predictions)\n",
    "print(\"Mean Absolute Error (MAE) on vector_output = %g\" % gmae)\n",
    "\n",
    "# R Squarred (R2)\n",
    "gbt_evaluator_R2 = RegressionEvaluator(\n",
    "    labelCol=\"High\", predictionCol=\"prediction\", metricName=\"r2\")\n",
    "gr2 = gbt_evaluator_R2.evaluate(gbt_predictions)\n",
    "print(\"R Squarred (R2) on vector_output = %g\" % gr2)"
   ]
  },
  {
   "cell_type": "code",
   "execution_count": 32,
   "metadata": {},
   "outputs": [
    {
     "data": {
      "text/plain": [
       "SparseVector(4, {0: 0.275, 1: 0.5527, 2: 0.0751, 3: 0.0972})"
      ]
     },
     "execution_count": 32,
     "metadata": {},
     "output_type": "execute_result"
    }
   ],
   "source": [
    "# Feature Importance of Gradient-boosted tree regression\n",
    "gbt_model.featureImportances"
   ]
  },
  {
   "cell_type": "code",
   "execution_count": 33,
   "metadata": {},
   "outputs": [
    {
     "data": {
      "text/plain": [
       "<matplotlib.axes._subplots.AxesSubplot at 0x7fea97c229b0>"
      ]
     },
     "execution_count": 33,
     "metadata": {},
     "output_type": "execute_result"
    },
    {
     "data": {
      "image/png": "[encoded data removed]",
      "text/plain": [
       "<Figure size 432x288 with 1 Axes>"
      ]
     },
     "metadata": {},
     "output_type": "display_data"
    }
   ],
   "source": [
    "# Convert the Pyspark contructed dataframe to Pandas dataframe to visualize\n",
    "gbt_predictionsPandas = gbt_predictions.toPandas()\n",
    "\n",
    "plt.style.use('Solarize_Light2')\n",
    "gbt_predictionsPandas.plot(x=\"High\" ,y='prediction')"
   ]
  },
  {
   "cell_type": "code",
   "execution_count": 34,
   "metadata": {},
   "outputs": [
    {
     "name": "stdout",
     "output_type": "stream",
     "text": [
      "+-------+-----------------+-----------------+\n",
      "|summary|             High|       prediction|\n",
      "+-------+-----------------+-----------------+\n",
      "|  count|             1760|             1760|\n",
      "|   mean|21.55526136363641|21.55526136363631|\n",
      "| stddev| 50.1425657590246|49.11559754958848|\n",
      "|    min|             1.34|1.614332497626731|\n",
      "|    max|           375.29|267.4309698231857|\n",
      "+-------+-----------------+-----------------+\n",
      "\n"
     ]
    }
   ],
   "source": [
    "gbt_predictions.describe().show()"
   ]
  },
  {
   "cell_type": "code",
   "execution_count": 35,
   "metadata": {},
   "outputs": [
    {
     "name": "stdout",
     "output_type": "stream",
     "text": [
      "+------------------+------+--------------------+\n",
      "|        prediction|  High|            features|\n",
      "+------------------+------+--------------------+\n",
      "| 267.4400421255502| 253.9|[223.09,253.9,222...|\n",
      "| 267.4400421255502|226.97|[215.41,226.97,21...|\n",
      "| 267.4400421255502|232.64|[230.51,232.64,21...|\n",
      "| 267.4400421255502|233.45|[229.5,233.45,225...|\n",
      "| 267.4400421255502|236.09|[225.5,236.09,212...|\n",
      "| 267.4400421255502|237.88|[212.35,237.88,21...|\n",
      "| 218.5458443032897|218.23|[159.58,218.23,15...|\n",
      "|113.80618265297964|162.37|[161.78,162.37,15...|\n",
      "|113.80618265297964|163.35|[150.1,163.35,150...|\n",
      "|113.80618265297964|155.73|[155.39,155.73,14...|\n",
      "|113.80618265297964|169.33|[163.49,169.33,14...|\n",
      "+------------------+------+--------------------+\n",
      "only showing top 11 rows\n",
      "\n"
     ]
    }
   ],
   "source": [
    "#Gradient boosted tree regression---I2\n",
    "from pyspark.ml.regression import GBTRegressor\n",
    "gbt = GBTRegressor(featuresCol = 'features', labelCol = 'High', maxIter=15)\n",
    "gbt_model = gbt.fit(vector_output)\n",
    "gbt_predictions = gbt_model.transform(vector_output)\n",
    "gbt_predictions.select('prediction', 'High', 'features').show(11)"
   ]
  },
  {
   "cell_type": "code",
   "execution_count": 36,
   "metadata": {},
   "outputs": [
    {
     "name": "stdout",
     "output_type": "stream",
     "text": [
      "Root Mean Squared Error (RMSE) = 10.1811\n",
      "Mean Absolute Error (MAE) = 2.55687\n",
      "R Squarred (R2) = 0.95875\n"
     ]
    }
   ],
   "source": [
    "# Root Mean Squared Error (RMSE)\n",
    "gbt_evaluator_RMSE = RegressionEvaluator(\n",
    "    labelCol=\"High\", predictionCol=\"prediction\", metricName=\"rmse\")\n",
    "grmse = gbt_evaluator_RMSE.evaluate(gbt_predictions)\n",
    "print(\"Root Mean Squared Error (RMSE) = %g\" % grmse)\n",
    "\n",
    "# Mean Absolute Error (MAE)\n",
    "gbt_evaluator_MAE = RegressionEvaluator(\n",
    "    labelCol=\"High\", predictionCol=\"prediction\", metricName=\"mae\")\n",
    "gmae = gbt_evaluator_MAE.evaluate(gbt_predictions)\n",
    "print(\"Mean Absolute Error (MAE) = %g\" % gmae)\n",
    "\n",
    "# R Squarred (R2)\n",
    "gbt_evaluator_R2 = RegressionEvaluator(\n",
    "    labelCol=\"High\", predictionCol=\"prediction\", metricName=\"r2\")\n",
    "gr2 = gbt_evaluator_R2.evaluate(gbt_predictions)\n",
    "print(\"R Squarred (R2) = %g\" % gr2)"
   ]
  },
  {
   "cell_type": "code",
   "execution_count": 37,
   "metadata": {},
   "outputs": [
    {
     "name": "stdout",
     "output_type": "stream",
     "text": [
      "+------------------+------+--------------------+\n",
      "|        prediction|  High|            features|\n",
      "+------------------+------+--------------------+\n",
      "|267.37755832088567| 253.9|[223.09,253.9,222...|\n",
      "|267.37755832088567|226.97|[215.41,226.97,21...|\n",
      "|267.37755832088567|232.64|[230.51,232.64,21...|\n",
      "|267.37755832088567|233.45|[229.5,233.45,225...|\n",
      "|267.37755832088567|236.09|[225.5,236.09,212...|\n",
      "|267.37755832088567|237.88|[212.35,237.88,21...|\n",
      "|218.42439171463894|218.23|[159.58,218.23,15...|\n",
      "|114.00396489039142|162.37|[161.78,162.37,15...|\n",
      "|114.00396489039142|163.35|[150.1,163.35,150...|\n",
      "|114.00396489039142|155.73|[155.39,155.73,14...|\n",
      "|114.00396489039142|169.33|[163.49,169.33,14...|\n",
      "+------------------+------+--------------------+\n",
      "only showing top 11 rows\n",
      "\n"
     ]
    }
   ],
   "source": [
    "#Gradient boosted tree regression---I3\n",
    "from pyspark.ml.regression import GBTRegressor\n",
    "gbt = GBTRegressor(featuresCol = 'features', labelCol = 'High', maxIter=20)\n",
    "gbt_model = gbt.fit(vector_output)\n",
    "gbt_predictions = gbt_model.transform(vector_output)\n",
    "gbt_predictions.select('prediction', 'High', 'features').show(11)"
   ]
  },
  {
   "cell_type": "code",
   "execution_count": 38,
   "metadata": {},
   "outputs": [
    {
     "name": "stdout",
     "output_type": "stream",
     "text": [
      "Root Mean Squared Error (RMSE) = 10.1735\n",
      "Mean Absolute Error (MAE) = 2.51251\n",
      "R Squarred (R2) = 0.958812\n"
     ]
    }
   ],
   "source": [
    "# Root Mean Squared Error (RMSE)\n",
    "gbt_evaluator_RMSE = RegressionEvaluator(\n",
    "    labelCol=\"High\", predictionCol=\"prediction\", metricName=\"rmse\")\n",
    "grmse = gbt_evaluator_RMSE.evaluate(gbt_predictions)\n",
    "print(\"Root Mean Squared Error (RMSE) = %g\" % grmse)\n",
    "\n",
    "# Mean Absolute Error (MAE)\n",
    "gbt_evaluator_MAE = RegressionEvaluator(\n",
    "    labelCol=\"High\", predictionCol=\"prediction\", metricName=\"mae\")\n",
    "gmae = gbt_evaluator_MAE.evaluate(gbt_predictions)\n",
    "print(\"Mean Absolute Error (MAE) = %g\" % gmae)\n",
    "\n",
    "# R Squarred (R2)\n",
    "gbt_evaluator_R2 = RegressionEvaluator(\n",
    "    labelCol=\"High\", predictionCol=\"prediction\", metricName=\"r2\")\n",
    "gr2 = gbt_evaluator_R2.evaluate(gbt_predictions)\n",
    "print(\"R Squarred (R2) = %g\" % gr2)"
   ]
  },
  {
   "cell_type": "code",
   "execution_count": null,
   "metadata": {},
   "outputs": [],
   "source": []
  }
 ],
 "metadata": {
  "kernelspec": {
   "display_name": "Python 3",
   "language": "python",
   "name": "python3"
  },
  "language_info": {
   "codemirror_mode": {
    "name": "ipython",
    "version": 3
   },
   "file_extension": ".py",
   "mimetype": "text/x-python",
   "name": "python",
   "nbconvert_exporter": "python",
   "pygments_lexer": "ipython3",
   "version": "3.5.2"
  }
 },
 "nbformat": 4,
 "nbformat_minor": 2
}
