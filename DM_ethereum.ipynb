{
 "cells": [
  {
   "cell_type": "code",
   "execution_count": 1,
   "metadata": {},
   "outputs": [],
   "source": [
    "import findspark\n",
    "findspark.init('/home/ubuntu/spark-2.1.1-bin-hadoop2.7')\n",
    "import pyspark\n",
    "from pyspark.sql import SparkSession\n",
    "spark = SparkSession.builder.appName('DM_ethereum').getOrCreate()\n",
    "\n",
    "ep = spark.read.csv('Dataset_main/ethereum_classic_price 1.csv',header=True,inferSchema=True)"
   ]
  },
  {
   "cell_type": "code",
   "execution_count": 2,
   "metadata": {},
   "outputs": [
    {
     "data": {
      "text/html": [
       "<div>\n",
       "<style scoped>\n",
       "    .dataframe tbody tr th:only-of-type {\n",
       "        vertical-align: middle;\n",
       "    }\n",
       "\n",
       "    .dataframe tbody tr th {\n",
       "        vertical-align: top;\n",
       "    }\n",
       "\n",
       "    .dataframe thead th {\n",
       "        text-align: right;\n",
       "    }\n",
       "</style>\n",
       "<table border=\"1\" class=\"dataframe\">\n",
       "  <thead>\n",
       "    <tr style=\"text-align: right;\">\n",
       "      <th></th>\n",
       "      <th>0</th>\n",
       "      <th>1</th>\n",
       "      <th>2</th>\n",
       "      <th>3</th>\n",
       "      <th>4</th>\n",
       "    </tr>\n",
       "  </thead>\n",
       "  <tbody>\n",
       "    <tr>\n",
       "      <th>summary</th>\n",
       "      <td>count</td>\n",
       "      <td>mean</td>\n",
       "      <td>stddev</td>\n",
       "      <td>min</td>\n",
       "      <td>max</td>\n",
       "    </tr>\n",
       "    <tr>\n",
       "      <th>Open</th>\n",
       "      <td>1761</td>\n",
       "      <td>7.4583363719477545</td>\n",
       "      <td>8.426770726753162</td>\n",
       "      <td>0.604737</td>\n",
       "      <td>44.53</td>\n",
       "    </tr>\n",
       "    <tr>\n",
       "      <th>High</th>\n",
       "      <td>1761</td>\n",
       "      <td>7.867908806360018</td>\n",
       "      <td>9.09130871892865</td>\n",
       "      <td>0.766068</td>\n",
       "      <td>53.15</td>\n",
       "    </tr>\n",
       "    <tr>\n",
       "      <th>Low</th>\n",
       "      <td>1761</td>\n",
       "      <td>7.044287735945492</td>\n",
       "      <td>7.740564729267633</td>\n",
       "      <td>0.452446</td>\n",
       "      <td>40.85</td>\n",
       "    </tr>\n",
       "    <tr>\n",
       "      <th>Close</th>\n",
       "      <td>1761</td>\n",
       "      <td>7.477006630891537</td>\n",
       "      <td>8.452638640291166</td>\n",
       "      <td>0.602402</td>\n",
       "      <td>44.73</td>\n",
       "    </tr>\n",
       "  </tbody>\n",
       "</table>\n",
       "</div>"
      ],
      "text/plain": [
       "             0                   1                  2         3      4\n",
       "summary  count                mean             stddev       min    max\n",
       "Open      1761  7.4583363719477545  8.426770726753162  0.604737  44.53\n",
       "High      1761   7.867908806360018   9.09130871892865  0.766068  53.15\n",
       "Low       1761   7.044287735945492  7.740564729267633  0.452446  40.85\n",
       "Close     1761   7.477006630891537  8.452638640291166  0.602402  44.73"
      ]
     },
     "execution_count": 2,
     "metadata": {},
     "output_type": "execute_result"
    }
   ],
   "source": [
    "import pandas as pd\n",
    "new_ep = ep.select('Open', 'High', 'Low', 'Close')\n",
    "new_ep.describe().toPandas().transpose()"
   ]
  },
  {
   "cell_type": "code",
   "execution_count": 3,
   "metadata": {},
   "outputs": [
    {
     "name": "stdout",
     "output_type": "stream",
     "text": [
      "root\n",
      " |-- Open: double (nullable = true)\n",
      " |-- High: double (nullable = true)\n",
      " |-- Low: double (nullable = true)\n",
      " |-- Close: double (nullable = true)\n",
      " |-- features: vector (nullable = true)\n",
      "\n"
     ]
    },
    {
     "data": {
      "text/plain": [
       "[Row(Open=39.41, High=43.96, Low=38.23, Close=38.47, features=DenseVector([39.41, 43.96, 38.23, 38.47]))]"
      ]
     },
     "execution_count": 3,
     "metadata": {},
     "output_type": "execute_result"
    }
   ],
   "source": [
    "#Reduce data.\n",
    "from pyspark.ml.feature import VectorAssembler\n",
    "\n",
    "vector_assembler = VectorAssembler(inputCols = ['Open', 'High', 'Low', 'Close'], outputCol = 'features')\n",
    "vector_output = vector_assembler.transform(new_ep)\n",
    "vector_output.printSchema()\n",
    "vector_output.head(1)"
   ]
  },
  {
   "cell_type": "code",
   "execution_count": 4,
   "metadata": {},
   "outputs": [
    {
     "name": "stdout",
     "output_type": "stream",
     "text": [
      "[Row(features=DenseVector([39.41, 43.96, 38.23, 38.47]), High=43.96)]\n"
     ]
    },
    {
     "data": {
      "text/html": [
       "<div>\n",
       "<style scoped>\n",
       "    .dataframe tbody tr th:only-of-type {\n",
       "        vertical-align: middle;\n",
       "    }\n",
       "\n",
       "    .dataframe tbody tr th {\n",
       "        vertical-align: top;\n",
       "    }\n",
       "\n",
       "    .dataframe thead th {\n",
       "        text-align: right;\n",
       "    }\n",
       "</style>\n",
       "<table border=\"1\" class=\"dataframe\">\n",
       "  <thead>\n",
       "    <tr style=\"text-align: right;\">\n",
       "      <th></th>\n",
       "      <th>features</th>\n",
       "      <th>High</th>\n",
       "    </tr>\n",
       "  </thead>\n",
       "  <tbody>\n",
       "    <tr>\n",
       "      <th>0</th>\n",
       "      <td>[39.41, 43.96, 38.23, 38.47]</td>\n",
       "      <td>43.96</td>\n",
       "    </tr>\n",
       "    <tr>\n",
       "      <th>1</th>\n",
       "      <td>[34.69, 40.26, 33.93, 39.29]</td>\n",
       "      <td>40.26</td>\n",
       "    </tr>\n",
       "    <tr>\n",
       "      <th>2</th>\n",
       "      <td>[35.01, 35.08, 31.52, 34.88]</td>\n",
       "      <td>35.08</td>\n",
       "    </tr>\n",
       "    <tr>\n",
       "      <th>3</th>\n",
       "      <td>[34.97, 35.4, 34.38, 34.99]</td>\n",
       "      <td>35.40</td>\n",
       "    </tr>\n",
       "    <tr>\n",
       "      <th>4</th>\n",
       "      <td>[34.43, 35.34, 32.9, 35.03]</td>\n",
       "      <td>35.34</td>\n",
       "    </tr>\n",
       "    <tr>\n",
       "      <th>5</th>\n",
       "      <td>[34.83, 35.65, 32.83, 34.53]</td>\n",
       "      <td>35.65</td>\n",
       "    </tr>\n",
       "    <tr>\n",
       "      <th>6</th>\n",
       "      <td>[34.32, 36.44, 33.4, 35.04]</td>\n",
       "      <td>36.44</td>\n",
       "    </tr>\n",
       "    <tr>\n",
       "      <th>7</th>\n",
       "      <td>[29.88, 34.73, 28.32, 33.96]</td>\n",
       "      <td>34.73</td>\n",
       "    </tr>\n",
       "    <tr>\n",
       "      <th>8</th>\n",
       "      <td>[24.31, 30.33, 24.31, 29.88]</td>\n",
       "      <td>30.33</td>\n",
       "    </tr>\n",
       "    <tr>\n",
       "      <th>9</th>\n",
       "      <td>[24.53, 26.0, 21.42, 24.13]</td>\n",
       "      <td>26.00</td>\n",
       "    </tr>\n",
       "  </tbody>\n",
       "</table>\n",
       "</div>"
      ],
      "text/plain": [
       "                       features   High\n",
       "0  [39.41, 43.96, 38.23, 38.47]  43.96\n",
       "1  [34.69, 40.26, 33.93, 39.29]  40.26\n",
       "2  [35.01, 35.08, 31.52, 34.88]  35.08\n",
       "3   [34.97, 35.4, 34.38, 34.99]  35.40\n",
       "4   [34.43, 35.34, 32.9, 35.03]  35.34\n",
       "5  [34.83, 35.65, 32.83, 34.53]  35.65\n",
       "6   [34.32, 36.44, 33.4, 35.04]  36.44\n",
       "7  [29.88, 34.73, 28.32, 33.96]  34.73\n",
       "8  [24.31, 30.33, 24.31, 29.88]  30.33\n",
       "9   [24.53, 26.0, 21.42, 24.13]  26.00"
      ]
     },
     "execution_count": 4,
     "metadata": {},
     "output_type": "execute_result"
    }
   ],
   "source": [
    "vector_output = vector_output.select(['features', 'High'])\n",
    "\n",
    "print(vector_output.head(1))\n",
    "pd.DataFrame(vector_output.take(10), columns=vector_output.columns)"
   ]
  },
  {
   "cell_type": "code",
   "execution_count": 5,
   "metadata": {},
   "outputs": [
    {
     "data": {
      "text/html": [
       "<div>\n",
       "<style scoped>\n",
       "    .dataframe tbody tr th:only-of-type {\n",
       "        vertical-align: middle;\n",
       "    }\n",
       "\n",
       "    .dataframe tbody tr th {\n",
       "        vertical-align: top;\n",
       "    }\n",
       "\n",
       "    .dataframe thead th {\n",
       "        text-align: right;\n",
       "    }\n",
       "</style>\n",
       "<table border=\"1\" class=\"dataframe\">\n",
       "  <thead>\n",
       "    <tr style=\"text-align: right;\">\n",
       "      <th></th>\n",
       "      <th>summary</th>\n",
       "      <th>High</th>\n",
       "    </tr>\n",
       "  </thead>\n",
       "  <tbody>\n",
       "    <tr>\n",
       "      <th>0</th>\n",
       "      <td>count</td>\n",
       "      <td>1392</td>\n",
       "    </tr>\n",
       "    <tr>\n",
       "      <th>1</th>\n",
       "      <td>mean</td>\n",
       "      <td>7.995037803879314</td>\n",
       "    </tr>\n",
       "    <tr>\n",
       "      <th>2</th>\n",
       "      <td>stddev</td>\n",
       "      <td>9.219705267743802</td>\n",
       "    </tr>\n",
       "    <tr>\n",
       "      <th>3</th>\n",
       "      <td>min</td>\n",
       "      <td>0.766068</td>\n",
       "    </tr>\n",
       "    <tr>\n",
       "      <th>4</th>\n",
       "      <td>max</td>\n",
       "      <td>53.15</td>\n",
       "    </tr>\n",
       "  </tbody>\n",
       "</table>\n",
       "</div>"
      ],
      "text/plain": [
       "  summary               High\n",
       "0   count               1392\n",
       "1    mean  7.995037803879314\n",
       "2  stddev  9.219705267743802\n",
       "3     min           0.766068\n",
       "4     max              53.15"
      ]
     },
     "execution_count": 5,
     "metadata": {},
     "output_type": "execute_result"
    }
   ],
   "source": [
    "#Split data.\n",
    "train_data,test_data = vector_output.randomSplit([0.8,0.2])\n",
    "\n",
    "#Describe train data.\n",
    "train_ep = train_data.describe()\n",
    "pd.DataFrame(train_ep.take(5), columns=train_ep.columns)"
   ]
  },
  {
   "cell_type": "code",
   "execution_count": 6,
   "metadata": {},
   "outputs": [
    {
     "data": {
      "text/html": [
       "<div>\n",
       "<style scoped>\n",
       "    .dataframe tbody tr th:only-of-type {\n",
       "        vertical-align: middle;\n",
       "    }\n",
       "\n",
       "    .dataframe tbody tr th {\n",
       "        vertical-align: top;\n",
       "    }\n",
       "\n",
       "    .dataframe thead th {\n",
       "        text-align: right;\n",
       "    }\n",
       "</style>\n",
       "<table border=\"1\" class=\"dataframe\">\n",
       "  <thead>\n",
       "    <tr style=\"text-align: right;\">\n",
       "      <th></th>\n",
       "      <th>summary</th>\n",
       "      <th>High</th>\n",
       "    </tr>\n",
       "  </thead>\n",
       "  <tbody>\n",
       "    <tr>\n",
       "      <th>0</th>\n",
       "      <td>count</td>\n",
       "      <td>369</td>\n",
       "    </tr>\n",
       "    <tr>\n",
       "      <th>1</th>\n",
       "      <td>mean</td>\n",
       "      <td>7.388332750677507</td>\n",
       "    </tr>\n",
       "    <tr>\n",
       "      <th>2</th>\n",
       "      <td>stddev</td>\n",
       "      <td>8.584750844161974</td>\n",
       "    </tr>\n",
       "    <tr>\n",
       "      <th>3</th>\n",
       "      <td>min</td>\n",
       "      <td>0.782389</td>\n",
       "    </tr>\n",
       "    <tr>\n",
       "      <th>4</th>\n",
       "      <td>max</td>\n",
       "      <td>46.5</td>\n",
       "    </tr>\n",
       "  </tbody>\n",
       "</table>\n",
       "</div>"
      ],
      "text/plain": [
       "  summary               High\n",
       "0   count                369\n",
       "1    mean  7.388332750677507\n",
       "2  stddev  8.584750844161974\n",
       "3     min           0.782389\n",
       "4     max               46.5"
      ]
     },
     "execution_count": 6,
     "metadata": {},
     "output_type": "execute_result"
    }
   ],
   "source": [
    "#Describe test data.\n",
    "test_ep = test_data.describe()\n",
    "pd.DataFrame(test_ep.take(5), columns=test_ep.columns)"
   ]
  },
  {
   "cell_type": "code",
   "execution_count": 7,
   "metadata": {},
   "outputs": [
    {
     "name": "stdout",
     "output_type": "stream",
     "text": [
      "Coefficients: \n",
      "\t(High/Open): 3.591332403548809e-16\n",
      "\t(High/High): 0.9999999999999996\n",
      "\t(High/Low): -3.2883509954096917e-16\n",
      "\t(High/Close): 5.494666525996323e-16\n",
      "Intercept: -2.4061979388221818e-17\n",
      "\n",
      "RMSE: 2.3156168023303406e-15\n",
      "R2: 1.0\n",
      "\n",
      "\n"
     ]
    },
    {
     "data": {
      "text/html": [
       "<div>\n",
       "<style scoped>\n",
       "    .dataframe tbody tr th:only-of-type {\n",
       "        vertical-align: middle;\n",
       "    }\n",
       "\n",
       "    .dataframe tbody tr th {\n",
       "        vertical-align: top;\n",
       "    }\n",
       "\n",
       "    .dataframe thead th {\n",
       "        text-align: right;\n",
       "    }\n",
       "</style>\n",
       "<table border=\"1\" class=\"dataframe\">\n",
       "  <thead>\n",
       "    <tr style=\"text-align: right;\">\n",
       "      <th></th>\n",
       "      <th>residuals</th>\n",
       "    </tr>\n",
       "  </thead>\n",
       "  <tbody>\n",
       "    <tr>\n",
       "      <th>0</th>\n",
       "      <td>-1.110223e-16</td>\n",
       "    </tr>\n",
       "    <tr>\n",
       "      <th>1</th>\n",
       "      <td>-1.110223e-16</td>\n",
       "    </tr>\n",
       "    <tr>\n",
       "      <th>2</th>\n",
       "      <td>-1.110223e-16</td>\n",
       "    </tr>\n",
       "    <tr>\n",
       "      <th>3</th>\n",
       "      <td>-1.110223e-16</td>\n",
       "    </tr>\n",
       "    <tr>\n",
       "      <th>4</th>\n",
       "      <td>-1.110223e-16</td>\n",
       "    </tr>\n",
       "    <tr>\n",
       "      <th>5</th>\n",
       "      <td>-1.110223e-16</td>\n",
       "    </tr>\n",
       "    <tr>\n",
       "      <th>6</th>\n",
       "      <td>-1.110223e-16</td>\n",
       "    </tr>\n",
       "    <tr>\n",
       "      <th>7</th>\n",
       "      <td>-2.220446e-16</td>\n",
       "    </tr>\n",
       "    <tr>\n",
       "      <th>8</th>\n",
       "      <td>-2.220446e-16</td>\n",
       "    </tr>\n",
       "    <tr>\n",
       "      <th>9</th>\n",
       "      <td>-2.220446e-16</td>\n",
       "    </tr>\n",
       "  </tbody>\n",
       "</table>\n",
       "</div>"
      ],
      "text/plain": [
       "      residuals\n",
       "0 -1.110223e-16\n",
       "1 -1.110223e-16\n",
       "2 -1.110223e-16\n",
       "3 -1.110223e-16\n",
       "4 -1.110223e-16\n",
       "5 -1.110223e-16\n",
       "6 -1.110223e-16\n",
       "7 -2.220446e-16\n",
       "8 -2.220446e-16\n",
       "9 -2.220446e-16"
      ]
     },
     "execution_count": 7,
     "metadata": {},
     "output_type": "execute_result"
    }
   ],
   "source": [
    "#Linear Regression.\n",
    "from pyspark.ml.regression import LinearRegression\n",
    "\n",
    "lr = LinearRegression(featuresCol='features', labelCol='High')\n",
    "lr_model = lr.fit(train_data)\n",
    "print(\"Coefficients: \") \n",
    "x = 0\n",
    "for coe in str(lr_model.coefficients)[1:].replace(\"]\",\"\").split(','):\n",
    "    print(\"\\t(High/\"+new_ep.columns[x]+\"): \"+coe)\n",
    "    x += 1\n",
    "\n",
    "print(\"Intercept: \" + str(lr_model.intercept) + \"\\n\")\n",
    "\n",
    "data_summary = lr_model.summary\n",
    "print(\"RMSE: \" + str(data_summary.rootMeanSquaredError))\n",
    "print(\"R2: \" + str(data_summary.r2))\n",
    "print(\"\\n\")\n",
    "\n",
    "data_resi = data_summary.residuals\n",
    "pd.DataFrame(data_resi.take(10), columns=data_resi.columns)"
   ]
  },
  {
   "cell_type": "code",
   "execution_count": 8,
   "metadata": {},
   "outputs": [
    {
     "data": {
      "text/plain": [
       "<Figure size 640x480 with 1 Axes>"
      ]
     },
     "metadata": {},
     "output_type": "display_data"
    }
   ],
   "source": [
    "#Plotting for residuals.\n",
    "import pandas as pd\n",
    "import numpy as np\n",
    "import matplotlib.pyplot as plt\n",
    "\n",
    "resi = data_resi.toPandas()\n",
    "\n",
    "plt.hist(resi['residuals'], 50)\n",
    "plt.xlabel('residuals')\n",
    "plt.title('residuals Histogram')\n",
    "\n",
    "plt.show()"
   ]
  },
  {
   "cell_type": "code",
   "execution_count": 9,
   "metadata": {},
   "outputs": [
    {
     "name": "stdout",
     "output_type": "stream",
     "text": [
      "root\n",
      " |-- Open: double (nullable = true)\n",
      " |-- High: double (nullable = true)\n",
      " |-- Low: double (nullable = true)\n",
      " |-- Close: double (nullable = true)\n",
      " |-- features: vector (nullable = true)\n",
      "\n"
     ]
    },
    {
     "data": {
      "text/plain": [
       "[Row(Open=39.41, High=43.96, Low=38.23, Close=38.47, features=DenseVector([39.41, 43.96, 38.23, 38.47]))]"
      ]
     },
     "execution_count": 9,
     "metadata": {},
     "output_type": "execute_result"
    }
   ],
   "source": [
    "from pyspark.ml.feature import VectorAssembler\n",
    "vector_assembler = VectorAssembler(inputCols = [ 'Open', 'High', 'Low', 'Close'], outputCol = 'features')\n",
    "vector_output = vector_assembler.transform(new_ep)\n",
    "vector_output.printSchema()\n",
    "vector_output.head(1)"
   ]
  },
  {
   "cell_type": "code",
   "execution_count": 10,
   "metadata": {},
   "outputs": [
    {
     "name": "stdout",
     "output_type": "stream",
     "text": [
      "[Row(features=DenseVector([39.41, 43.96, 38.23, 38.47]), High=43.96)]\n",
      "+--------------------+-----+\n",
      "|            features| High|\n",
      "+--------------------+-----+\n",
      "|[39.41,43.96,38.2...|43.96|\n",
      "|[34.69,40.26,33.9...|40.26|\n",
      "|[35.01,35.08,31.5...|35.08|\n",
      "+--------------------+-----+\n",
      "only showing top 3 rows\n",
      "\n"
     ]
    }
   ],
   "source": [
    "vector_output = vector_output.select(['features', 'High'])\n",
    "print(vector_output.head(1))\n",
    "vector_output.show(3)"
   ]
  },
  {
   "cell_type": "code",
   "execution_count": 11,
   "metadata": {},
   "outputs": [
    {
     "name": "stdout",
     "output_type": "stream",
     "text": [
      "+-------+-----------------+\n",
      "|summary|             High|\n",
      "+-------+-----------------+\n",
      "|  count|             1407|\n",
      "|   mean|7.813553125799576|\n",
      "| stddev| 9.07154519924294|\n",
      "|    min|         0.766068|\n",
      "|    max|            53.15|\n",
      "+-------+-----------------+\n",
      "\n",
      "+-------+-----------------+\n",
      "|summary|             High|\n",
      "+-------+-----------------+\n",
      "|  count|              354|\n",
      "|   mean|8.083949604519772|\n",
      "| stddev|9.179172062716058|\n",
      "|    min|         0.861533|\n",
      "|    max|            47.94|\n",
      "+-------+-----------------+\n",
      "\n"
     ]
    }
   ],
   "source": [
    "train_data,test_data = vector_output.randomSplit([0.8,0.2])\n",
    "train_data.describe().show()\n",
    "test_data.describe().show()"
   ]
  },
  {
   "cell_type": "code",
   "execution_count": 12,
   "metadata": {},
   "outputs": [
    {
     "name": "stdout",
     "output_type": "stream",
     "text": [
      "Coefficients: [0.0,1.0,0.0,0.0]\n",
      "Intercept: 0.0\n",
      "\n",
      "RMSE: 0.0\n",
      "R2: 1.0\n"
     ]
    }
   ],
   "source": [
    "from pyspark.ml.regression import LinearRegression\n",
    "# Instantiate the instance.\n",
    "lr = LinearRegression(featuresCol='features', labelCol='High')\n",
    "\n",
    "# Fit the training data.\n",
    "lr_model = lr.fit(train_data)\n",
    "\n",
    "# Print the coefficients.\n",
    "print(\"Coefficients: \" + str(lr_model.coefficients))\n",
    "\n",
    "# Print the intercept.\n",
    "print(\"Intercept: \" + str(lr_model.intercept) + \"\\n\")\n",
    "\n",
    "# Summarise the model and print out some evaluation metrics.\n",
    "training_summary = lr_model.summary\n",
    "\n",
    "# Print RMSE. \n",
    "print(\"RMSE: \" + str(training_summary.rootMeanSquaredError))\n",
    "\n",
    "# Print R2.\n",
    "print(\"R2: \" + str(training_summary.r2))"
   ]
  },
  {
   "cell_type": "code",
   "execution_count": 13,
   "metadata": {},
   "outputs": [
    {
     "name": "stdout",
     "output_type": "stream",
     "text": [
      "Coefficients: [0.25416220801710965,0.4319214045291355,0.061851881044872284,0.2696825520651561]\n",
      "Intercept: 0.12140658482800051\n"
     ]
    }
   ],
   "source": [
    "# Linear Regression on train data\n",
    "from pyspark.ml.regression import LinearRegression\n",
    "lr = LinearRegression(featuresCol = 'features', labelCol='High', maxIter=10, regParam=0.3, elasticNetParam=0.8)\n",
    "lr_model = lr.fit(train_data)\n",
    "print(\"Coefficients: \" + str(lr_model.coefficients))\n",
    "print(\"Intercept: \" + str(lr_model.intercept))"
   ]
  },
  {
   "cell_type": "code",
   "execution_count": 14,
   "metadata": {},
   "outputs": [
    {
     "name": "stdout",
     "output_type": "stream",
     "text": [
      "+------------------+--------+--------------------+\n",
      "|        prediction|    High|            features|\n",
      "+------------------+--------+--------------------+\n",
      "|0.9649577888567106|0.861533|[0.771917,0.86153...|\n",
      "|1.0041647877040114|0.878762|[0.86104,0.878762...|\n",
      "| 1.040660762066315|0.921573|[0.887828,0.92157...|\n",
      "|1.0374959178989445|0.909434|[0.900257,0.90943...|\n",
      "|1.1055904214332468|0.998996|[0.909894,0.99899...|\n",
      "+------------------+--------+--------------------+\n",
      "only showing top 5 rows\n",
      "\n",
      "R Squared (R2) = 0.997642\n",
      "Mean Absolute Error (MAE) = 0.22842\n",
      "Root Mean Squared Error (RMSE) = 0.445119\n"
     ]
    }
   ],
   "source": [
    "lr_predictions = lr_model.transform(test_data) ---I1\n",
    "lr_predictions.select(\"prediction\",\"High\",\"features\").show(5)\n",
    "\n",
    "from pyspark.ml.evaluation import RegressionEvaluator\n",
    "\n",
    "lrR2_evaluator = RegressionEvaluator(predictionCol=\"prediction\", \\\n",
    "                 labelCol=\"High\",metricName=\"r2\")\n",
    "print(\"R Squared (R2) = %g\" % lrR2_evaluator.evaluate(lr_predictions))\n",
    "\n",
    "lrMAE_evaluator = RegressionEvaluator(predictionCol=\"prediction\", \\\n",
    "                 labelCol=\"High\",metricName=\"mae\")\n",
    "print(\"Mean Absolute Error (MAE) = %g\" % lrMAE_evaluator.evaluate(lr_predictions))\n",
    "\n",
    "lrRMSE_evaluator = RegressionEvaluator(predictionCol=\"prediction\", \\\n",
    "                 labelCol=\"High\",metricName=\"rmse\")\n",
    "print(\"Root Mean Squared Error (RMSE) = %g\" % lrRMSE_evaluator.evaluate(lr_predictions))"
   ]
  },
  {
   "cell_type": "code",
   "execution_count": 36,
   "metadata": {},
   "outputs": [
    {
     "name": "stdout",
     "output_type": "stream",
     "text": [
      "Coefficients: [0.23616147166239415,0.4667941155861875,0.01731446817519504,0.27244391376031335]\n",
      "Intercept: 0.2733265934477807\n"
     ]
    }
   ],
   "source": [
    "# Linear Regression on train data---I3\n",
    "from pyspark.ml.regression import LinearRegression\n",
    "lr = LinearRegression(featuresCol = 'features', labelCol='High', maxIter=15, regParam=0.5, elasticNetParam=0.8)\n",
    "lr_model = lr.fit(train_data)\n",
    "print(\"Coefficients: \" + str(lr_model.coefficients))\n",
    "print(\"Intercept: \" + str(lr_model.intercept))"
   ]
  },
  {
   "cell_type": "code",
   "execution_count": 37,
   "metadata": {},
   "outputs": [
    {
     "name": "stdout",
     "output_type": "stream",
     "text": [
      "+------------------+--------+--------------------+\n",
      "|        prediction|    High|            features|\n",
      "+------------------+--------+--------------------+\n",
      "|1.1013471443194616|0.861533|[0.771917,0.86153...|\n",
      "|1.1355621504014488|0.878762|[0.86104,0.878762...|\n",
      "|1.1719044464591775|0.921573|[0.887828,0.92157...|\n",
      "|  1.16789407198149|0.909434|[0.900257,0.90943...|\n",
      "|1.2381793507697285|0.998996|[0.909894,0.99899...|\n",
      "+------------------+--------+--------------------+\n",
      "only showing top 5 rows\n",
      "\n",
      "R Squared (R2) = 0.996742\n",
      "Mean Absolute Error (MAE) = 0.299153\n",
      "Root Mean Squared Error (RMSE) = 0.523198\n"
     ]
    }
   ],
   "source": [
    "lr_predictions = lr_model.transform(test_data)\n",
    "lr_predictions.select(\"prediction\",\"High\",\"features\").show(5)\n",
    "\n",
    "from pyspark.ml.evaluation import RegressionEvaluator\n",
    "\n",
    "lrR2_evaluator = RegressionEvaluator(predictionCol=\"prediction\", \\\n",
    "                 labelCol=\"High\",metricName=\"r2\")\n",
    "print(\"R Squared (R2) = %g\" % lrR2_evaluator.evaluate(lr_predictions))\n",
    "\n",
    "lrMAE_evaluator = RegressionEvaluator(predictionCol=\"prediction\", \\\n",
    "                 labelCol=\"High\",metricName=\"mae\")\n",
    "print(\"Mean Absolute Error (MAE) = %g\" % lrMAE_evaluator.evaluate(lr_predictions))\n",
    "\n",
    "lrRMSE_evaluator = RegressionEvaluator(predictionCol=\"prediction\", \\\n",
    "                 labelCol=\"High\",metricName=\"rmse\")\n",
    "print(\"Root Mean Squared Error (RMSE) = %g\" % lrRMSE_evaluator.evaluate(lr_predictions))"
   ]
  },
  {
   "cell_type": "code",
   "execution_count": 15,
   "metadata": {},
   "outputs": [
    {
     "name": "stdout",
     "output_type": "stream",
     "text": [
      "+------------------+--------+--------------------+\n",
      "|        prediction|    High|            features|\n",
      "+------------------+--------+--------------------+\n",
      "|0.9649577888567106|0.861533|[0.771917,0.86153...|\n",
      "|1.0041647877040114|0.878762|[0.86104,0.878762...|\n",
      "| 1.040660762066315|0.921573|[0.887828,0.92157...|\n",
      "|1.0374959178989445|0.909434|[0.900257,0.90943...|\n",
      "|1.1055904214332468|0.998996|[0.909894,0.99899...|\n",
      "|1.0705248781367847|0.956011|[0.913579,0.95601...|\n",
      "|1.0628422339999462|0.942472|[0.917254,0.94247...|\n",
      "| 1.072516933541801|0.958333|[0.93027,0.958333...|\n",
      "|1.0695934263578994|0.941046|[0.941046,0.94104...|\n",
      "|1.1188849600472228|     1.0|[0.995573,1.0,0.9...|\n",
      "|1.1699385227577046|    1.04|[1.03,1.04,1.01,1...|\n",
      "|1.1725977389485749|    1.05|[1.04,1.05,0.9856...|\n",
      "|1.2087876881526094|    1.08|[1.07,1.08,1.02,1...|\n",
      "|1.2482627695423683|    1.13|[1.12,1.13,1.06,1...|\n",
      "| 1.340168492668272|    1.23|[1.16,1.23,1.16,1...|\n",
      "|1.3270556470919175|     1.2|[1.17,1.2,1.16,1.18]|\n",
      "|1.3231997484165945|    1.19|[1.18,1.19,1.17,1...|\n",
      "|1.3327574100627086|     1.2|[1.19,1.2,1.17,1.18]|\n",
      "|1.3440926636739428|    1.22|[1.19,1.22,1.17,1...|\n",
      "| 1.345011897229474|    1.21| [1.2,1.21,1.17,1.2]|\n",
      "+------------------+--------+--------------------+\n",
      "only showing top 20 rows\n",
      "\n"
     ]
    }
   ],
   "source": [
    "# Using our Linear Regression model to make some predictions.\n",
    "\n",
    "predictions = lr_model.transform(test_data)\n",
    "predictions.select(\"prediction\",\"High\",\"features\").show()"
   ]
  },
  {
   "cell_type": "code",
   "execution_count": 16,
   "metadata": {},
   "outputs": [
    {
     "name": "stdout",
     "output_type": "stream",
     "text": [
      "Coefficients: [3.5872505322974137e-16,0.9999999999999994,-3.164968304102339e-16,5.446632011051353e-16]\n",
      "Intercept: -5.1729286299937506e-17\n",
      "\n",
      "MAE: 4.814118691673876e-16\n",
      "RMSE: 1.276322627370726e-15\n",
      "R2: 1.0\n"
     ]
    }
   ],
   "source": [
    "# Importing the LR package. ---I2\n",
    "from pyspark.ml.regression import LinearRegression\n",
    "\n",
    "# Instantiate the instance.\n",
    "lr = LinearRegression(featuresCol='features', labelCol='High')\n",
    "\n",
    "# Fit the vector_output\n",
    "lr_model = lr.fit(vector_output)\n",
    "\n",
    "# Print the coefficients.\n",
    "print(\"Coefficients: \" + str(lr_model.coefficients))\n",
    "\n",
    "# Print the intercept.\n",
    "print(\"Intercept: \" + str(lr_model.intercept) + \"\\n\")\n",
    "\n",
    "# Summarise the model and print out some evaluation metrics.\n",
    "vdf3_Summary = lr_model.summary\n",
    "\n",
    "# Print MAE (Mean Absolute Error)\n",
    "print(\"MAE: \" + str(vdf3_Summary.meanAbsoluteError))\n",
    "\n",
    "# Print RMSE (Root Mean Squared Error) \n",
    "print(\"RMSE: \" + str(vdf3_Summary.rootMeanSquaredError))\n",
    "\n",
    "# Print R2 (R Squarred)\n",
    "print(\"R2: \" + str(vdf3_Summary.r2))"
   ]
  },
  {
   "cell_type": "code",
   "execution_count": 17,
   "metadata": {},
   "outputs": [
    {
     "name": "stdout",
     "output_type": "stream",
     "text": [
      "+-------+-----------------+\n",
      "|summary|             High|\n",
      "+-------+-----------------+\n",
      "|  count|             1761|\n",
      "|   mean|7.867908806360018|\n",
      "| stddev| 9.09130871892865|\n",
      "|    min|         0.766068|\n",
      "|    max|            53.15|\n",
      "+-------+-----------------+\n",
      "\n"
     ]
    }
   ],
   "source": [
    "vector_output.describe().show()\n"
   ]
  },
  {
   "cell_type": "code",
   "execution_count": 18,
   "metadata": {},
   "outputs": [
    {
     "name": "stdout",
     "output_type": "stream",
     "text": [
      "+------------------+-----+--------------------+\n",
      "|        prediction| High|            features|\n",
      "+------------------+-----+--------------------+\n",
      "|             43.96|43.96|[39.41,43.96,38.2...|\n",
      "|             40.26|40.26|[34.69,40.26,33.9...|\n",
      "|35.080000000000005|35.08|[35.01,35.08,31.5...|\n",
      "|              35.4| 35.4|[34.97,35.4,34.38...|\n",
      "| 35.34000000000001|35.34|[34.43,35.34,32.9...|\n",
      "+------------------+-----+--------------------+\n",
      "only showing top 5 rows\n",
      "\n",
      "R Squared (R2) = 1\n",
      "Mean Absolute Error (MAE) = 4.81412e-16\n",
      "Root Mean Squared Error (RMSE) = 1.27632e-15\n"
     ]
    }
   ],
   "source": [
    "# Linear Regression model \n",
    "\n",
    "lr_predictions = lr_model.transform(vector_output)\n",
    "lr_predictions.select(\"prediction\",\"High\",\"features\").show(5)\n",
    "from pyspark.ml.evaluation import RegressionEvaluator\n",
    "\n",
    "lrR2_evaluator = RegressionEvaluator(predictionCol=\"prediction\", \\\n",
    "                 labelCol=\"High\",metricName=\"r2\")\n",
    "print(\"R Squared (R2) = %g\" % lrR2_evaluator.evaluate(lr_predictions))\n",
    "\n",
    "lrMAE_evaluator = RegressionEvaluator(predictionCol=\"prediction\", \\\n",
    "                 labelCol=\"High\",metricName=\"mae\")\n",
    "print(\"Mean Absolute Error (MAE) = %g\" % lrMAE_evaluator.evaluate(lr_predictions))\n",
    "\n",
    "lrRMSE_evaluator = RegressionEvaluator(predictionCol=\"prediction\", \\\n",
    "                 labelCol=\"High\",metricName=\"rmse\")\n",
    "print(\"Root Mean Squared Error (RMSE) = %g\" % lrRMSE_evaluator.evaluate(lr_predictions))"
   ]
  },
  {
   "cell_type": "code",
   "execution_count": 19,
   "metadata": {},
   "outputs": [
    {
     "data": {
      "text/plain": [
       "<matplotlib.axes._subplots.AxesSubplot at 0x7f3a1db990b8>"
      ]
     },
     "execution_count": 19,
     "metadata": {},
     "output_type": "execute_result"
    },
    {
     "data": {
      "image/png": "[encoded data removed]",
      "text/plain": [
       "<Figure size 432x288 with 1 Axes>"
      ]
     },
     "metadata": {},
     "output_type": "display_data"
    }
   ],
   "source": [
    "# Convert the Pyspark contructed dataframe to Pandas dataframe to visualize\n",
    "lr_predictionsPandas = lr_predictions.toPandas()\n",
    "\n",
    "plt.style.use('Solarize_Light2')\n",
    "lr_predictionsPandas.plot(x=\"High\" ,y='prediction')"
   ]
  },
  {
   "cell_type": "code",
   "execution_count": 20,
   "metadata": {},
   "outputs": [
    {
     "name": "stdout",
     "output_type": "stream",
     "text": [
      "+-------+-----------------+-----------------+\n",
      "|summary|             High|       prediction|\n",
      "+-------+-----------------+-----------------+\n",
      "|  count|             1761|             1761|\n",
      "|   mean|7.867908806360018|7.867908806360018|\n",
      "| stddev| 9.09130871892865|9.091308718928648|\n",
      "|    min|         0.766068|         0.766068|\n",
      "|    max|            53.15|53.14999999999999|\n",
      "+-------+-----------------+-----------------+\n",
      "\n"
     ]
    }
   ],
   "source": [
    "lr_predictions.describe().show()"
   ]
  },
  {
   "cell_type": "code",
   "execution_count": 21,
   "metadata": {},
   "outputs": [
    {
     "name": "stdout",
     "output_type": "stream",
     "text": [
      "+--------------------+-----+------------------+\n",
      "|            features| High|        prediction|\n",
      "+--------------------+-----+------------------+\n",
      "|[39.41,43.96,38.2...|43.96|             43.96|\n",
      "|[34.69,40.26,33.9...|40.26|             40.26|\n",
      "|[35.01,35.08,31.5...|35.08|35.080000000000005|\n",
      "|[34.97,35.4,34.38...| 35.4|              35.4|\n",
      "|[34.43,35.34,32.9...|35.34| 35.34000000000001|\n",
      "|[34.83,35.65,32.8...|35.65|35.650000000000006|\n",
      "|[34.32,36.44,33.4...|36.44|36.440000000000005|\n",
      "|[29.88,34.73,28.3...|34.73|34.730000000000004|\n",
      "|[24.31,30.33,24.3...|30.33|             30.33|\n",
      "|[24.53,26.0,21.42...| 26.0|              26.0|\n",
      "|[25.95,26.65,23.0...|26.65|26.650000000000002|\n",
      "|[21.89,26.21,21.0...|26.21|             26.21|\n",
      "|[18.15,21.96,18.1...|21.96|             21.96|\n",
      "|[19.18,20.45,17.4...|20.45|             20.45|\n",
      "|[16.75,19.42,14.0...|19.42|19.420000000000005|\n",
      "|[20.76,21.19,15.8...|21.19|21.190000000000005|\n",
      "|[24.19,24.73,19.9...|24.73|24.729999999999997|\n",
      "|[23.15,24.74,20.7...|24.74|             24.74|\n",
      "|[24.95,24.95,18.3...|24.95|24.950000000000003|\n",
      "|[28.77,28.88,23.7...|28.88|             28.88|\n",
      "+--------------------+-----+------------------+\n",
      "only showing top 20 rows\n",
      "\n"
     ]
    }
   ],
   "source": [
    "lr_predictions.show()\n"
   ]
  },
  {
   "cell_type": "code",
   "execution_count": 22,
   "metadata": {},
   "outputs": [
    {
     "name": "stdout",
     "output_type": "stream",
     "text": [
      "+-------+-----------------+\n",
      "|summary|             High|\n",
      "+-------+-----------------+\n",
      "|  count|             1407|\n",
      "|   mean|7.813553125799576|\n",
      "| stddev| 9.07154519924294|\n",
      "|    min|         0.766068|\n",
      "|    max|            53.15|\n",
      "+-------+-----------------+\n",
      "\n"
     ]
    }
   ],
   "source": [
    "train_data.describe().show()"
   ]
  },
  {
   "cell_type": "code",
   "execution_count": 23,
   "metadata": {},
   "outputs": [
    {
     "name": "stdout",
     "output_type": "stream",
     "text": [
      "RMSE on test data: 1.204248465709403e-15\n",
      "R2 on test data: 1.0\n"
     ]
    }
   ],
   "source": [
    "test_results = lr_model.evaluate(test_data)\n",
    "print(\"RMSE on test data: \" + str(test_results.rootMeanSquaredError))\n",
    "print(\"R2 on test data: \" + str(test_results.r2))"
   ]
  },
  {
   "cell_type": "code",
   "execution_count": 24,
   "metadata": {},
   "outputs": [
    {
     "name": "stdout",
     "output_type": "stream",
     "text": [
      "Root Mean Squared Error (RMSE) on vector_output = 0.885042\n",
      "Mean Absolute Error (MAE) on vector_output = 0.389038\n",
      "R-Squared (R2) on vector_output = 0.990518\n"
     ]
    }
   ],
   "source": [
    "# Decision Tree Regression\n",
    "\n",
    "from pyspark.ml.regression import DecisionTreeRegressor\n",
    "from pyspark.ml.evaluation import RegressionEvaluator\n",
    "\n",
    "dt = DecisionTreeRegressor(featuresCol ='features', labelCol = 'High')\n",
    "dt_model = dt.fit(vector_output)\n",
    "dt_predictions = dt_model.transform(vector_output)\n",
    "\n",
    "# RMSE\n",
    "dtr_evaluator = RegressionEvaluator(\n",
    "    labelCol=\"High\", predictionCol=\"prediction\", metricName=\"rmse\")\n",
    "rmse = dtr_evaluator.evaluate(dt_predictions)\n",
    "print(\"Root Mean Squared Error (RMSE) on vector_output = %g\" % rmse)\n",
    "\n",
    "# MAE\n",
    "dtm_evaluator = RegressionEvaluator(\n",
    "    labelCol=\"High\", predictionCol=\"prediction\", metricName=\"mae\")\n",
    "mae = dtm_evaluator.evaluate(dt_predictions)\n",
    "print(\"Mean Absolute Error (MAE) on vector_output = %g\" % mae)\n",
    "\n",
    "# R2\n",
    "dtr2_evaluator = RegressionEvaluator(\n",
    "    labelCol=\"High\", predictionCol=\"prediction\", metricName=\"r2\")\n",
    "r2 = dtr2_evaluator.evaluate(dt_predictions)\n",
    "print(\"R-Squared (R2) on vector_output = %g\" % r2)"
   ]
  },
  {
   "cell_type": "code",
   "execution_count": 25,
   "metadata": {},
   "outputs": [
    {
     "data": {
      "text/plain": [
       "SparseVector(4, {0: 0.0018, 1: 0.9974, 2: 0.0006, 3: 0.0002})"
      ]
     },
     "execution_count": 25,
     "metadata": {},
     "output_type": "execute_result"
    }
   ],
   "source": [
    "# Feature Importance\n",
    "dt_model.featureImportances"
   ]
  },
  {
   "cell_type": "code",
   "execution_count": 26,
   "metadata": {},
   "outputs": [
    {
     "data": {
      "text/plain": [
       "[Row(Open=39.41, High=43.96, Low=38.23, Close=38.47)]"
      ]
     },
     "execution_count": 26,
     "metadata": {},
     "output_type": "execute_result"
    }
   ],
   "source": [
    "\n",
    "new_ep.take(1)"
   ]
  },
  {
   "cell_type": "code",
   "execution_count": 27,
   "metadata": {},
   "outputs": [
    {
     "name": "stdout",
     "output_type": "stream",
     "text": [
      "+------------------+-----+--------------------+\n",
      "|        prediction| High|            features|\n",
      "+------------------+-----+--------------------+\n",
      "| 40.14371878444026|43.96|[39.41,43.96,38.2...|\n",
      "| 40.14371878444026|40.26|[34.69,40.26,33.9...|\n",
      "| 40.14371878444026|35.08|[35.01,35.08,31.5...|\n",
      "| 40.14371878444026| 35.4|[34.97,35.4,34.38...|\n",
      "| 40.14371878444026|35.34|[34.43,35.34,32.9...|\n",
      "| 40.14371878444026|35.65|[34.83,35.65,32.8...|\n",
      "| 40.14371878444026|36.44|[34.32,36.44,33.4...|\n",
      "| 35.26251114623783|34.73|[29.88,34.73,28.3...|\n",
      "|27.904441476096437|30.33|[24.31,30.33,24.3...|\n",
      "|28.495777833345823| 26.0|[24.53,26.0,21.42...|\n",
      "|28.495777833345823|26.65|[25.95,26.65,23.0...|\n",
      "+------------------+-----+--------------------+\n",
      "only showing top 11 rows\n",
      "\n"
     ]
    }
   ],
   "source": [
    "#Gradient boosted tree regression\n",
    "from pyspark.ml.regression import GBTRegressor\n",
    "gbt = GBTRegressor(featuresCol = 'features', labelCol = 'High', maxIter=10)\n",
    "gbt_model = gbt.fit(vector_output)\n",
    "gbt_predictions = gbt_model.transform(vector_output)\n",
    "gbt_predictions.select('prediction', 'High', 'features').show(11)"
   ]
  },
  {
   "cell_type": "code",
   "execution_count": 28,
   "metadata": {},
   "outputs": [
    {
     "name": "stdout",
     "output_type": "stream",
     "text": [
      "Root Mean Squared Error (RMSE) on vector_output = 0.855442\n",
      "Mean Absolute Error (MAE) on vector_output = 0.334282\n",
      "R Squarred (R2) on vector_output = 0.991141\n"
     ]
    }
   ],
   "source": [
    "# Gradient-boosted tree model evaluation\n",
    "\n",
    "# Root Mean Squared Error (RMSE)\n",
    "gbt_evaluator_RMSE = RegressionEvaluator(\n",
    "    labelCol=\"High\", predictionCol=\"prediction\", metricName=\"rmse\")\n",
    "grmse = gbt_evaluator_RMSE.evaluate(gbt_predictions)\n",
    "print(\"Root Mean Squared Error (RMSE) on vector_output = %g\" % grmse)\n",
    "\n",
    "# Mean Absolute Error (MAE)\n",
    "gbt_evaluator_MAE = RegressionEvaluator(\n",
    "    labelCol=\"High\", predictionCol=\"prediction\", metricName=\"mae\")\n",
    "gmae = gbt_evaluator_MAE.evaluate(gbt_predictions)\n",
    "print(\"Mean Absolute Error (MAE) on vector_output = %g\" % gmae)\n",
    "\n",
    "# R Squarred (R2)\n",
    "gbt_evaluator_R2 = RegressionEvaluator(\n",
    "    labelCol=\"High\", predictionCol=\"prediction\", metricName=\"r2\")\n",
    "gr2 = gbt_evaluator_R2.evaluate(gbt_predictions)\n",
    "print(\"R Squarred (R2) on vector_output = %g\" % gr2)"
   ]
  },
  {
   "cell_type": "code",
   "execution_count": 29,
   "metadata": {},
   "outputs": [
    {
     "data": {
      "text/plain": [
       "SparseVector(4, {0: 0.1866, 1: 0.6015, 2: 0.1361, 3: 0.0757})"
      ]
     },
     "execution_count": 29,
     "metadata": {},
     "output_type": "execute_result"
    }
   ],
   "source": [
    "# Feature Importance of Gradient-boosted tree regression\n",
    "gbt_model.featureImportances"
   ]
  },
  {
   "cell_type": "code",
   "execution_count": 30,
   "metadata": {},
   "outputs": [
    {
     "data": {
      "text/plain": [
       "<matplotlib.axes._subplots.AxesSubplot at 0x7f3a1dbc9160>"
      ]
     },
     "execution_count": 30,
     "metadata": {},
     "output_type": "execute_result"
    },
    {
     "data": {
      "image/png": "[encoded data removed]",
      "text/plain": [
       "<Figure size 432x288 with 1 Axes>"
      ]
     },
     "metadata": {},
     "output_type": "display_data"
    }
   ],
   "source": [
    "# Convert the Pyspark contructed dataframe to Pandas dataframe to visualize\n",
    "gbt_predictionsPandas = gbt_predictions.toPandas()\n",
    "\n",
    "plt.style.use('Solarize_Light2')\n",
    "gbt_predictionsPandas.plot(x=\"High\" ,y='prediction')"
   ]
  },
  {
   "cell_type": "code",
   "execution_count": 31,
   "metadata": {},
   "outputs": [
    {
     "name": "stdout",
     "output_type": "stream",
     "text": [
      "+-------+-----------------+------------------+\n",
      "|summary|             High|        prediction|\n",
      "+-------+-----------------+------------------+\n",
      "|  count|             1761|              1761|\n",
      "|   mean|7.867908806360018| 7.867908806360004|\n",
      "| stddev| 9.09130871892865| 9.054524340380706|\n",
      "|    min|         0.766068|0.9642619719356319|\n",
      "|    max|            53.15| 40.14371878444026|\n",
      "+-------+-----------------+------------------+\n",
      "\n"
     ]
    }
   ],
   "source": [
    "gbt_predictions.describe().show()"
   ]
  },
  {
   "cell_type": "code",
   "execution_count": 34,
   "metadata": {},
   "outputs": [
    {
     "name": "stdout",
     "output_type": "stream",
     "text": [
      "+------------------+--------+--------------------+\n",
      "|        prediction|    High|            features|\n",
      "+------------------+--------+--------------------+\n",
      "|0.9274965939626173|0.861533|[0.771917,0.86153...|\n",
      "|0.9274965939626173|0.878762|[0.86104,0.878762...|\n",
      "|0.9274965939626173|0.921573|[0.887828,0.92157...|\n",
      "|0.9274965939626173|0.909434|[0.900257,0.90943...|\n",
      "|0.9274965939626173|0.998996|[0.909894,0.99899...|\n",
      "|0.9274965939626173|0.956011|[0.913579,0.95601...|\n",
      "|0.9274965939626173|0.942472|[0.917254,0.94247...|\n",
      "|0.9274965939626173|0.958333|[0.93027,0.958333...|\n",
      "|0.9274965939626173|0.941046|[0.941046,0.94104...|\n",
      "|1.0267042632875298|     1.0|[0.995573,1.0,0.9...|\n",
      "|1.0516697353811977|    1.04|[1.03,1.04,1.01,1...|\n",
      "+------------------+--------+--------------------+\n",
      "only showing top 11 rows\n",
      "\n"
     ]
    }
   ],
   "source": [
    "# Gradient-boosted Tree Regression on train and test data (split data)---I2\n",
    "\n",
    "from pyspark.ml.regression import GBTRegressor\n",
    "gbt = GBTRegressor(featuresCol = 'features', labelCol = 'High', maxIter=15)\n",
    "gbt_model = gbt.fit(train_data)\n",
    "gbt_predictions = gbt_model.transform(test_data)\n",
    "gbt_predictions.select('prediction', 'High', 'features').show(11)"
   ]
  },
  {
   "cell_type": "code",
   "execution_count": 35,
   "metadata": {},
   "outputs": [
    {
     "name": "stdout",
     "output_type": "stream",
     "text": [
      "Root Mean Squared Error (RMSE) = 0.980048\n",
      "Mean Absolute Error (MAE) = 0.375944\n",
      "R Squarred (R2) = 0.988568\n"
     ]
    }
   ],
   "source": [
    "# Root Mean Squared Error (RMSE)\n",
    "gbt_evaluator_RMSE = RegressionEvaluator(\n",
    "    labelCol=\"High\", predictionCol=\"prediction\", metricName=\"rmse\")\n",
    "grmse = gbt_evaluator_RMSE.evaluate(gbt_predictions)\n",
    "print(\"Root Mean Squared Error (RMSE) = %g\" % grmse)\n",
    "\n",
    "# Mean Absolute Error (MAE)\n",
    "gbt_evaluator_MAE = RegressionEvaluator(\n",
    "    labelCol=\"High\", predictionCol=\"prediction\", metricName=\"mae\")\n",
    "gmae = gbt_evaluator_MAE.evaluate(gbt_predictions)\n",
    "print(\"Mean Absolute Error (MAE) = %g\" % gmae)\n",
    "\n",
    "# R Squarred (R2)\n",
    "gbt_evaluator_R2 = RegressionEvaluator(\n",
    "    labelCol=\"High\", predictionCol=\"prediction\", metricName=\"r2\")\n",
    "gr2 = gbt_evaluator_R2.evaluate(gbt_predictions)\n",
    "print(\"R Squarred (R2) = %g\" % gr2)"
   ]
  },
  {
   "cell_type": "code",
   "execution_count": 38,
   "metadata": {},
   "outputs": [
    {
     "name": "stdout",
     "output_type": "stream",
     "text": [
      "+------------------+--------+--------------------+\n",
      "|        prediction|    High|            features|\n",
      "+------------------+--------+--------------------+\n",
      "|0.9267751316592489|0.861533|[0.771917,0.86153...|\n",
      "|0.9267751316592489|0.878762|[0.86104,0.878762...|\n",
      "|0.9267751316592489|0.921573|[0.887828,0.92157...|\n",
      "|0.9267751316592489|0.909434|[0.900257,0.90943...|\n",
      "|0.9267751316592489|0.998996|[0.909894,0.99899...|\n",
      "|0.9267751316592489|0.956011|[0.913579,0.95601...|\n",
      "|0.9267751316592489|0.942472|[0.917254,0.94247...|\n",
      "|0.9267751316592489|0.958333|[0.93027,0.958333...|\n",
      "|0.9267751316592489|0.941046|[0.941046,0.94104...|\n",
      "|1.0259828009841614|     1.0|[0.995573,1.0,0.9...|\n",
      "|1.0509482730778292|    1.04|[1.03,1.04,1.01,1...|\n",
      "+------------------+--------+--------------------+\n",
      "only showing top 11 rows\n",
      "\n",
      "Root Mean Squared Error (RMSE) = 0.976773\n",
      "Mean Absolute Error (MAE) = 0.359466\n",
      "R Squarred (R2) = 0.988644\n"
     ]
    }
   ],
   "source": [
    "# Gradient-boosted Tree Regression on train and test data (split data)---I3\n",
    "\n",
    "from pyspark.ml.regression import GBTRegressor\n",
    "gbt = GBTRegressor(featuresCol = 'features', labelCol = 'High', maxIter=20)\n",
    "gbt_model = gbt.fit(train_data)\n",
    "gbt_predictions = gbt_model.transform(test_data)\n",
    "gbt_predictions.select('prediction', 'High', 'features').show(11)\n",
    "\n",
    "# Root Mean Squared Error (RMSE)\n",
    "gbt_evaluator_RMSE = RegressionEvaluator(\n",
    "    labelCol=\"High\", predictionCol=\"prediction\", metricName=\"rmse\")\n",
    "grmse = gbt_evaluator_RMSE.evaluate(gbt_predictions)\n",
    "print(\"Root Mean Squared Error (RMSE) = %g\" % grmse)\n",
    "\n",
    "# Mean Absolute Error (MAE)\n",
    "gbt_evaluator_MAE = RegressionEvaluator(\n",
    "    labelCol=\"High\", predictionCol=\"prediction\", metricName=\"mae\")\n",
    "gmae = gbt_evaluator_MAE.evaluate(gbt_predictions)\n",
    "print(\"Mean Absolute Error (MAE) = %g\" % gmae)\n",
    "\n",
    "# R Squarred (R2)\n",
    "gbt_evaluator_R2 = RegressionEvaluator(\n",
    "    labelCol=\"High\", predictionCol=\"prediction\", metricName=\"r2\")\n",
    "gr2 = gbt_evaluator_R2.evaluate(gbt_predictions)\n",
    "print(\"R Squarred (R2) = %g\" % gr2)"
   ]
  },
  {
   "cell_type": "code",
   "execution_count": null,
   "metadata": {},
   "outputs": [],
   "source": []
  }
 ],
 "metadata": {
  "kernelspec": {
   "display_name": "Python 3",
   "language": "python",
   "name": "python3"
  },
  "language_info": {
   "codemirror_mode": {
    "name": "ipython",
    "version": 3
   },
   "file_extension": ".py",
   "mimetype": "text/x-python",
   "name": "python",
   "nbconvert_exporter": "python",
   "pygments_lexer": "ipython3",
   "version": "3.5.2"
  }
 },
 "nbformat": 4,
 "nbformat_minor": 2
}
